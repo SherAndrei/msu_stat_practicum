{
 "cells": [
  {
   "cell_type": "markdown",
   "metadata": {},
   "source": [
    "## Семинар 9. Однофакторный дисперсионный анализ для связанных выборок."
   ]
  },
  {
   "cell_type": "code",
   "execution_count": 1,
   "metadata": {},
   "outputs": [],
   "source": [
    "import numpy as np\n",
    "import scipy as sp\n",
    "import pandas as pd\n",
    "import matplotlib.pyplot as plt\n",
    "import scipy.stats as st"
   ]
  },
  {
   "cell_type": "code",
   "execution_count": 2,
   "metadata": {},
   "outputs": [],
   "source": [
    "%matplotlib inline"
   ]
  },
  {
   "cell_type": "code",
   "execution_count": 3,
   "metadata": {},
   "outputs": [],
   "source": [
    "from scipy.stats import friedmanchisquare\n",
    "from statsmodels.stats.anova import AnovaRM"
   ]
  },
  {
   "cell_type": "code",
   "execution_count": 6,
   "metadata": {},
   "outputs": [],
   "source": [
    "import pingouin as pg"
   ]
  },
  {
   "cell_type": "markdown",
   "metadata": {},
   "source": [
    "### Задача №1\n",
    "\n",
    "Несколько дегустаторов оценивают различные сорта вин. Имеют ли вина значимые отличия на уровне значимости 5%? Данные представлены в файле «Wine.csv»."
   ]
  },
  {
   "cell_type": "code",
   "execution_count": 7,
   "metadata": {},
   "outputs": [],
   "source": [
    "data = pd.read_csv('Wine.csv', index_col='tasters') \n",
    "data.columns.name = 'wine' #индексу по столбцам присвоили имя 'wine' (понадобится в AnovaRM)"
   ]
  },
  {
   "cell_type": "code",
   "execution_count": 8,
   "metadata": {
    "scrolled": true
   },
   "outputs": [
    {
     "data": {
      "text/html": [
       "<div>\n",
       "<style scoped>\n",
       "    .dataframe tbody tr th:only-of-type {\n",
       "        vertical-align: middle;\n",
       "    }\n",
       "\n",
       "    .dataframe tbody tr th {\n",
       "        vertical-align: top;\n",
       "    }\n",
       "\n",
       "    .dataframe thead th {\n",
       "        text-align: right;\n",
       "    }\n",
       "</style>\n",
       "<table border=\"1\" class=\"dataframe\">\n",
       "  <thead>\n",
       "    <tr style=\"text-align: right;\">\n",
       "      <th>wine</th>\n",
       "      <th>Georges Duboeuf Gamay</th>\n",
       "      <th>Williams Selyem Pinot Noir</th>\n",
       "      <th>Siduri Pinot Noir</th>\n",
       "      <th>Testarossa Pinot Noir</th>\n",
       "      <th>Louis Latour Chardonnay</th>\n",
       "      <th>Dr. Loosen Riesling</th>\n",
       "      <th>Louis Latour Pinot Noir</th>\n",
       "      <th>Testarossa Chardonnay</th>\n",
       "    </tr>\n",
       "    <tr>\n",
       "      <th>tasters</th>\n",
       "      <th></th>\n",
       "      <th></th>\n",
       "      <th></th>\n",
       "      <th></th>\n",
       "      <th></th>\n",
       "      <th></th>\n",
       "      <th></th>\n",
       "      <th></th>\n",
       "    </tr>\n",
       "  </thead>\n",
       "  <tbody>\n",
       "    <tr>\n",
       "      <th>Roger Voss</th>\n",
       "      <td>78.9</td>\n",
       "      <td>76.7</td>\n",
       "      <td>78.3</td>\n",
       "      <td>76.9</td>\n",
       "      <td>79.2</td>\n",
       "      <td>79.4</td>\n",
       "      <td>79.6</td>\n",
       "      <td>78.0</td>\n",
       "    </tr>\n",
       "    <tr>\n",
       "      <th>Michael Schachner</th>\n",
       "      <td>80.5</td>\n",
       "      <td>80.1</td>\n",
       "      <td>80.9</td>\n",
       "      <td>79.4</td>\n",
       "      <td>81.4</td>\n",
       "      <td>79.3</td>\n",
       "      <td>79.8</td>\n",
       "      <td>78.2</td>\n",
       "    </tr>\n",
       "    <tr>\n",
       "      <th>Kerin O’Keefe</th>\n",
       "      <td>80.8</td>\n",
       "      <td>79.1</td>\n",
       "      <td>80.8</td>\n",
       "      <td>79.8</td>\n",
       "      <td>80.2</td>\n",
       "      <td>78.3</td>\n",
       "      <td>80.0</td>\n",
       "      <td>80.7</td>\n",
       "    </tr>\n",
       "    <tr>\n",
       "      <th>Virginie Boone</th>\n",
       "      <td>81.0</td>\n",
       "      <td>79.1</td>\n",
       "      <td>81.3</td>\n",
       "      <td>81.3</td>\n",
       "      <td>80.9</td>\n",
       "      <td>80.2</td>\n",
       "      <td>81.1</td>\n",
       "      <td>80.4</td>\n",
       "    </tr>\n",
       "    <tr>\n",
       "      <th>Paul Gregutt</th>\n",
       "      <td>81.0</td>\n",
       "      <td>81.1</td>\n",
       "      <td>80.5</td>\n",
       "      <td>79.5</td>\n",
       "      <td>79.9</td>\n",
       "      <td>81.8</td>\n",
       "      <td>80.6</td>\n",
       "      <td>79.8</td>\n",
       "    </tr>\n",
       "  </tbody>\n",
       "</table>\n",
       "</div>"
      ],
      "text/plain": [
       "wine               Georges Duboeuf Gamay  Williams Selyem Pinot Noir  \\\n",
       "tasters                                                                \n",
       "Roger Voss                          78.9                        76.7   \n",
       "Michael Schachner                   80.5                        80.1   \n",
       "Kerin O’Keefe                       80.8                        79.1   \n",
       "Virginie Boone                      81.0                        79.1   \n",
       "Paul Gregutt                        81.0                        81.1   \n",
       "\n",
       "wine               Siduri Pinot Noir  Testarossa Pinot Noir  \\\n",
       "tasters                                                       \n",
       "Roger Voss                      78.3                   76.9   \n",
       "Michael Schachner               80.9                   79.4   \n",
       "Kerin O’Keefe                   80.8                   79.8   \n",
       "Virginie Boone                  81.3                   81.3   \n",
       "Paul Gregutt                    80.5                   79.5   \n",
       "\n",
       "wine               Louis Latour Chardonnay  Dr. Loosen Riesling  \\\n",
       "tasters                                                           \n",
       "Roger Voss                            79.2                 79.4   \n",
       "Michael Schachner                     81.4                 79.3   \n",
       "Kerin O’Keefe                         80.2                 78.3   \n",
       "Virginie Boone                        80.9                 80.2   \n",
       "Paul Gregutt                          79.9                 81.8   \n",
       "\n",
       "wine               Louis Latour Pinot Noir  Testarossa Chardonnay  \n",
       "tasters                                                            \n",
       "Roger Voss                            79.6                   78.0  \n",
       "Michael Schachner                     79.8                   78.2  \n",
       "Kerin O’Keefe                         80.0                   80.7  \n",
       "Virginie Boone                        81.1                   80.4  \n",
       "Paul Gregutt                          80.6                   79.8  "
      ]
     },
     "execution_count": 8,
     "metadata": {},
     "output_type": "execute_result"
    }
   ],
   "source": [
    "data.head()"
   ]
  },
  {
   "cell_type": "code",
   "execution_count": 9,
   "metadata": {},
   "outputs": [
    {
     "data": {
      "image/png": "[encoded data removed]",
      "text/plain": [
       "<Figure size 1296x360 with 1 Axes>"
      ]
     },
     "metadata": {
      "needs_background": "light"
     },
     "output_type": "display_data"
    }
   ],
   "source": [
    "plt.figure(figsize=(18,5))\n",
    "plt.plot(data.mean(axis=0), marker='o') \n",
    "# смотрим среднее по столбцам (axis=0), т.е. по винам\n",
    "pass"
   ]
  },
  {
   "cell_type": "code",
   "execution_count": 10,
   "metadata": {},
   "outputs": [
    {
     "data": {
      "text/plain": [
       "[<matplotlib.lines.Line2D at 0x7fd62dd669d0>]"
      ]
     },
     "execution_count": 10,
     "metadata": {},
     "output_type": "execute_result"
    },
    {
     "data": {
      "image/png": "[encoded data removed]",
      "text/plain": [
       "<Figure size 1296x360 with 1 Axes>"
      ]
     },
     "metadata": {
      "needs_background": "light"
     },
     "output_type": "display_data"
    }
   ],
   "source": [
    "plt.figure(figsize=(18,5))\n",
    "plt.plot(data.mean(axis=1), marker='o')\n",
    "# смотрим среднее по строкам (axis=1), т.е. по дегустаторам"
   ]
  },
  {
   "cell_type": "markdown",
   "metadata": {},
   "source": [
    "#### Критерий Фридмана (Friedman test) Непараметрический"
   ]
  },
  {
   "cell_type": "code",
   "execution_count": 11,
   "metadata": {},
   "outputs": [],
   "source": [
    "friedmanchisquare?\n",
    "\n",
    "#В описании теста указано, что аргумент теста должен быть в виде:\n",
    "#measurements1, measurements2, measurements3... (Arrays of measurements)"
   ]
  },
  {
   "cell_type": "code",
   "execution_count": 12,
   "metadata": {},
   "outputs": [
    {
     "data": {
      "text/plain": [
       "array([78.9, 76.7, 78.3, 76.9, 79.2, 79.4, 79.6, 78. ])"
      ]
     },
     "execution_count": 12,
     "metadata": {},
     "output_type": "execute_result"
    }
   ],
   "source": [
    "data_ar = np.array(data) #делаем array из DataFrame (array из строк!! таблицы)\n",
    "data_ar[0] #1 строка = 1 дегустатор"
   ]
  },
  {
   "cell_type": "code",
   "execution_count": 17,
   "metadata": {
    "scrolled": false
   },
   "outputs": [
    {
     "data": {
      "text/plain": [
       "array([78.9, 80.5, 80.8, 81. , 81. , 81.5, 79.2, 80. , 81. , 81. , 78.9,\n",
       "       79.4, 78. , 82.4, 80.2, 78.8, 80.2, 78.6, 81.9])"
      ]
     },
     "execution_count": 17,
     "metadata": {},
     "output_type": "execute_result"
    }
   ],
   "source": [
    "data_ar.T[0] #1 строка = 1 вино"
   ]
  },
  {
   "cell_type": "code",
   "execution_count": 18,
   "metadata": {},
   "outputs": [
    {
     "ename": "ValueError",
     "evalue": "At least 3 sets of measurements must be given for Friedman test, got 1.",
     "output_type": "error",
     "traceback": [
      "\u001b[0;31m---------------------------------------------------------------------------\u001b[0m",
      "\u001b[0;31mValueError\u001b[0m                                Traceback (most recent call last)",
      "\u001b[0;32m<ipython-input-18-f2718c186c4a>\u001b[0m in \u001b[0;36m<module>\u001b[0;34m\u001b[0m\n\u001b[0;32m----> 1\u001b[0;31m \u001b[0mfriedmanchisquare\u001b[0m\u001b[0;34m(\u001b[0m\u001b[0mdata_ar\u001b[0m\u001b[0;34m.\u001b[0m\u001b[0mT\u001b[0m\u001b[0;34m)\u001b[0m\u001b[0;34m\u001b[0m\u001b[0;34m\u001b[0m\u001b[0m\n\u001b[0m",
      "\u001b[0;32m~/miniconda3/envs/da/lib/python3.7/site-packages/scipy/stats/stats.py\u001b[0m in \u001b[0;36mfriedmanchisquare\u001b[0;34m(*args)\u001b[0m\n\u001b[1;32m   7410\u001b[0m     \u001b[0mk\u001b[0m \u001b[0;34m=\u001b[0m \u001b[0mlen\u001b[0m\u001b[0;34m(\u001b[0m\u001b[0margs\u001b[0m\u001b[0;34m)\u001b[0m\u001b[0;34m\u001b[0m\u001b[0;34m\u001b[0m\u001b[0m\n\u001b[1;32m   7411\u001b[0m     \u001b[0;32mif\u001b[0m \u001b[0mk\u001b[0m \u001b[0;34m<\u001b[0m \u001b[0;36m3\u001b[0m\u001b[0;34m:\u001b[0m\u001b[0;34m\u001b[0m\u001b[0;34m\u001b[0m\u001b[0m\n\u001b[0;32m-> 7412\u001b[0;31m         \u001b[0;32mraise\u001b[0m \u001b[0mValueError\u001b[0m\u001b[0;34m(\u001b[0m\u001b[0;34m'At least 3 sets of measurements must be given for Friedman test, got {}.'\u001b[0m\u001b[0;34m.\u001b[0m\u001b[0mformat\u001b[0m\u001b[0;34m(\u001b[0m\u001b[0mk\u001b[0m\u001b[0;34m)\u001b[0m\u001b[0;34m)\u001b[0m\u001b[0;34m\u001b[0m\u001b[0;34m\u001b[0m\u001b[0m\n\u001b[0m\u001b[1;32m   7413\u001b[0m \u001b[0;34m\u001b[0m\u001b[0m\n\u001b[1;32m   7414\u001b[0m     \u001b[0mn\u001b[0m \u001b[0;34m=\u001b[0m \u001b[0mlen\u001b[0m\u001b[0;34m(\u001b[0m\u001b[0margs\u001b[0m\u001b[0;34m[\u001b[0m\u001b[0;36m0\u001b[0m\u001b[0;34m]\u001b[0m\u001b[0;34m)\u001b[0m\u001b[0;34m\u001b[0m\u001b[0;34m\u001b[0m\u001b[0m\n",
      "\u001b[0;31mValueError\u001b[0m: At least 3 sets of measurements must be given for Friedman test, got 1."
     ]
    }
   ],
   "source": [
    "friedmanchisquare(data_ar.T) "
   ]
  },
  {
   "cell_type": "code",
   "execution_count": 19,
   "metadata": {
    "scrolled": false
   },
   "outputs": [
    {
     "data": {
      "text/plain": [
       "FriedmanchisquareResult(statistic=8.341740226986122, pvalue=0.30342606953219087)"
      ]
     },
     "execution_count": 19,
     "metadata": {},
     "output_type": "execute_result"
    }
   ],
   "source": [
    "friedmanchisquare(*data_ar.T) \n",
    "#data_ar.T: транспонируем\n",
    "#*data_ar.T: отправляем data_ar.T как набор строк=отдельных аргументов теста (т.е. набор измерений по каждому вину)"
   ]
  },
  {
   "cell_type": "markdown",
   "metadata": {},
   "source": [
    "pvalue > 0.05 значит у вин нет значимых различий"
   ]
  },
  {
   "cell_type": "markdown",
   "metadata": {},
   "source": [
    "#### Подготовка к AnovaRM"
   ]
  },
  {
   "cell_type": "markdown",
   "metadata": {},
   "source": [
    "#### Mauchly's sphericity test Проверка дисперсий"
   ]
  },
  {
   "cell_type": "code",
   "execution_count": 20,
   "metadata": {},
   "outputs": [
    {
     "data": {
      "text/plain": [
       "SpherResults(spher=True, W=0.1745292229478308, chi2=26.97465099791604, dof=27, pval=0.4819525968487776)"
      ]
     },
     "execution_count": 20,
     "metadata": {},
     "output_type": "execute_result"
    }
   ],
   "source": [
    "pg.sphericity(data) #по умолчанию сравниваем столбцы (иначе транспонируем)"
   ]
  },
  {
   "cell_type": "code",
   "execution_count": 21,
   "metadata": {},
   "outputs": [
    {
     "data": {
      "text/plain": [
       "0.4819525968487776"
      ]
     },
     "execution_count": 21,
     "metadata": {},
     "output_type": "execute_result"
    }
   ],
   "source": [
    "spher_res = pg.sphericity(data)\n",
    "spher_res[4]"
   ]
  },
  {
   "cell_type": "markdown",
   "metadata": {},
   "source": [
    "pvalue > 0.05, значит дисперсии равны"
   ]
  },
  {
   "cell_type": "markdown",
   "metadata": {},
   "source": [
    "#### Normality test Проверка на нормальность"
   ]
  },
  {
   "cell_type": "markdown",
   "metadata": {},
   "source": [
    "\"One-way repeated measures ANOVA. The residual is calculated as Actual value - Predicted value, where Predicted value = predicted group mean + predicted subject (row) mean - predicted grand mean.\""
   ]
  },
  {
   "cell_type": "code",
   "execution_count": 23,
   "metadata": {},
   "outputs": [],
   "source": [
    "resid = data.add(-data.mean(axis=0), axis='columns').add(-data.mean(axis=1), axis='rows') + data.values.mean()\n",
    "\n",
    "#data.add(-data.mean(axis=0), axis='columns') :прибавляем отдельно по столбцам значение -data.mean(axis=0)\n",
    "#data.add(-data.mean(axis=1), axis='rows') :прибавляем построчно значение -data.mean(axis=1)"
   ]
  },
  {
   "cell_type": "code",
   "execution_count": 24,
   "metadata": {},
   "outputs": [
    {
     "data": {
      "text/plain": [
       "pandas.core.frame.DataFrame"
      ]
     },
     "execution_count": 24,
     "metadata": {},
     "output_type": "execute_result"
    }
   ],
   "source": [
    "type(resid)"
   ]
  },
  {
   "cell_type": "code",
   "execution_count": 26,
   "metadata": {},
   "outputs": [],
   "source": [
    "#st.shapiro(resid.values.reshape(1, -1))"
   ]
  },
  {
   "cell_type": "code",
   "execution_count": 27,
   "metadata": {},
   "outputs": [
    {
     "data": {
      "text/plain": [
       "ShapiroResult(statistic=0.9909800291061401, pvalue=0.4461417496204376)"
      ]
     },
     "execution_count": 27,
     "metadata": {},
     "output_type": "execute_result"
    }
   ],
   "source": [
    "st.shapiro(resid)"
   ]
  },
  {
   "cell_type": "markdown",
   "metadata": {},
   "source": [
    "pvalue > 0.05, значит наблюдения нормальны"
   ]
  },
  {
   "cell_type": "markdown",
   "metadata": {},
   "source": [
    "#### AnovaRM"
   ]
  },
  {
   "cell_type": "markdown",
   "metadata": {},
   "source": [
    "С помощью statsmodels.stats.anova:"
   ]
  },
  {
   "cell_type": "code",
   "execution_count": 28,
   "metadata": {},
   "outputs": [
    {
     "data": {
      "text/html": [
       "<div>\n",
       "<style scoped>\n",
       "    .dataframe tbody tr th:only-of-type {\n",
       "        vertical-align: middle;\n",
       "    }\n",
       "\n",
       "    .dataframe tbody tr th {\n",
       "        vertical-align: top;\n",
       "    }\n",
       "\n",
       "    .dataframe thead th {\n",
       "        text-align: right;\n",
       "    }\n",
       "</style>\n",
       "<table border=\"1\" class=\"dataframe\">\n",
       "  <thead>\n",
       "    <tr style=\"text-align: right;\">\n",
       "      <th>wine</th>\n",
       "      <th>Georges Duboeuf Gamay</th>\n",
       "      <th>Williams Selyem Pinot Noir</th>\n",
       "      <th>Siduri Pinot Noir</th>\n",
       "      <th>Testarossa Pinot Noir</th>\n",
       "      <th>Louis Latour Chardonnay</th>\n",
       "      <th>Dr. Loosen Riesling</th>\n",
       "      <th>Louis Latour Pinot Noir</th>\n",
       "      <th>Testarossa Chardonnay</th>\n",
       "    </tr>\n",
       "    <tr>\n",
       "      <th>tasters</th>\n",
       "      <th></th>\n",
       "      <th></th>\n",
       "      <th></th>\n",
       "      <th></th>\n",
       "      <th></th>\n",
       "      <th></th>\n",
       "      <th></th>\n",
       "      <th></th>\n",
       "    </tr>\n",
       "  </thead>\n",
       "  <tbody>\n",
       "    <tr>\n",
       "      <th>Roger Voss</th>\n",
       "      <td>78.9</td>\n",
       "      <td>76.7</td>\n",
       "      <td>78.3</td>\n",
       "      <td>76.9</td>\n",
       "      <td>79.2</td>\n",
       "      <td>79.4</td>\n",
       "      <td>79.6</td>\n",
       "      <td>78.0</td>\n",
       "    </tr>\n",
       "    <tr>\n",
       "      <th>Michael Schachner</th>\n",
       "      <td>80.5</td>\n",
       "      <td>80.1</td>\n",
       "      <td>80.9</td>\n",
       "      <td>79.4</td>\n",
       "      <td>81.4</td>\n",
       "      <td>79.3</td>\n",
       "      <td>79.8</td>\n",
       "      <td>78.2</td>\n",
       "    </tr>\n",
       "  </tbody>\n",
       "</table>\n",
       "</div>"
      ],
      "text/plain": [
       "wine               Georges Duboeuf Gamay  Williams Selyem Pinot Noir  \\\n",
       "tasters                                                                \n",
       "Roger Voss                          78.9                        76.7   \n",
       "Michael Schachner                   80.5                        80.1   \n",
       "\n",
       "wine               Siduri Pinot Noir  Testarossa Pinot Noir  \\\n",
       "tasters                                                       \n",
       "Roger Voss                      78.3                   76.9   \n",
       "Michael Schachner               80.9                   79.4   \n",
       "\n",
       "wine               Louis Latour Chardonnay  Dr. Loosen Riesling  \\\n",
       "tasters                                                           \n",
       "Roger Voss                            79.2                 79.4   \n",
       "Michael Schachner                     81.4                 79.3   \n",
       "\n",
       "wine               Louis Latour Pinot Noir  Testarossa Chardonnay  \n",
       "tasters                                                            \n",
       "Roger Voss                            79.6                   78.0  \n",
       "Michael Schachner                     79.8                   78.2  "
      ]
     },
     "execution_count": 28,
     "metadata": {},
     "output_type": "execute_result"
    }
   ],
   "source": [
    "#Придется преобразовать данные для AnovaRM:\n",
    "#Было: data\n",
    "data.head(2)"
   ]
  },
  {
   "cell_type": "code",
   "execution_count": 29,
   "metadata": {},
   "outputs": [
    {
     "data": {
      "text/plain": [
       "wine                   tasters          \n",
       "Georges Duboeuf Gamay  Roger Voss           78.9\n",
       "                       Michael Schachner    80.5\n",
       "                       Kerin O’Keefe        80.8\n",
       "                       Virginie Boone       81.0\n",
       "                       Paul Gregutt         81.0\n",
       "dtype: float64"
      ]
     },
     "execution_count": 29,
     "metadata": {},
     "output_type": "execute_result"
    }
   ],
   "source": [
    "#Шаг 1: data.unstack()\n",
    "data.unstack().head() #двухуровневый индекс (wine tasters), получили series (1 столбец со сложным индексом)"
   ]
  },
  {
   "cell_type": "code",
   "execution_count": null,
   "metadata": {},
   "outputs": [],
   "source": [
    "#Шаг 2: data.unstack().to_frame(name='score') \n",
    "data.unstack().to_frame(name='score').head() #получили DataFrame, добавили название 'score' для столбца с качеством вина"
   ]
  },
  {
   "cell_type": "code",
   "execution_count": null,
   "metadata": {},
   "outputs": [],
   "source": [
    "#Шаг 3: data.unstack().to_frame(name='score').reset_index()\n",
    "data_anova = data.unstack().to_frame(name='score').reset_index() #превратили индексы в значения ячеек\n",
    "#теперь в качестве индекса выступают числа 0,1,2,3..."
   ]
  },
  {
   "cell_type": "code",
   "execution_count": null,
   "metadata": {},
   "outputs": [],
   "source": [
    "data_anova.head()"
   ]
  },
  {
   "cell_type": "code",
   "execution_count": null,
   "metadata": {},
   "outputs": [],
   "source": [
    "an_rm = AnovaRM(data_anova, depvar='score', subject='tasters', within=['wine'])"
   ]
  },
  {
   "cell_type": "code",
   "execution_count": null,
   "metadata": {
    "scrolled": true
   },
   "outputs": [],
   "source": [
    "res = an_rm.fit()\n",
    "print(res)"
   ]
  },
  {
   "cell_type": "markdown",
   "metadata": {},
   "source": [
    "Или с помощью pingouin:"
   ]
  },
  {
   "cell_type": "code",
   "execution_count": null,
   "metadata": {},
   "outputs": [],
   "source": [
    "pg.rm_anova(data)"
   ]
  },
  {
   "cell_type": "code",
   "execution_count": null,
   "metadata": {
    "scrolled": true
   },
   "outputs": [],
   "source": [
    "#Или можно так же передать data_anova, как в AnovaRM:\n",
    "pg.rm_anova(data=data_anova, dv='score', within='wine', subject='tasters', detailed=False)"
   ]
  },
  {
   "cell_type": "code",
   "execution_count": null,
   "metadata": {},
   "outputs": [],
   "source": [
    "rmanova_res = pg.rm_anova(data)\n",
    "rmanova_res['p-unc'][0]"
   ]
  },
  {
   "cell_type": "code",
   "execution_count": null,
   "metadata": {},
   "outputs": [],
   "source": []
  },
  {
   "cell_type": "markdown",
   "metadata": {},
   "source": [
    "### Задача №2\n",
    "\n",
    "Несколько дегустаторов оценивают различные вина, расположенные по увеличению стоимости за бутылку. Имеют ли вина значимые отличия на уровне значимости 5%? Данные представлены в файле «Wine_Page.csv»."
   ]
  },
  {
   "cell_type": "code",
   "execution_count": null,
   "metadata": {},
   "outputs": [],
   "source": [
    "data_page = pd.read_csv('Wine_Page.csv', index_col='tasters') \n",
    "data_page.columns.name = 'wine' #индексу по столбцам присвоили имя 'wine' "
   ]
  },
  {
   "cell_type": "code",
   "execution_count": null,
   "metadata": {},
   "outputs": [],
   "source": [
    "plt.figure(figsize=(18,5))\n",
    "plt.plot(data_page.mean(axis=0), marker='o') \n",
    "# смотрим среднее по столбцам (axis=0), т.е. по винам"
   ]
  },
  {
   "cell_type": "markdown",
   "metadata": {},
   "source": [
    "#### Критерий Пэйджа (Page's trend test)"
   ]
  },
  {
   "cell_type": "code",
   "execution_count": null,
   "metadata": {},
   "outputs": [],
   "source": [
    "%%bash\n",
    "git clone https://github.com/jwcarr/PageTest"
   ]
  },
  {
   "cell_type": "code",
   "execution_count": null,
   "metadata": {},
   "outputs": [],
   "source": [
    "from PageTest import Page"
   ]
  },
  {
   "cell_type": "code",
   "execution_count": null,
   "metadata": {
    "scrolled": false
   },
   "outputs": [],
   "source": [
    "Page.test(np.array(data_page).tolist(), ascending=True)\n",
    "#Data matrix (formated as a list of lists) with treatments along the columns and replications along the rows."
   ]
  },
  {
   "cell_type": "markdown",
   "metadata": {},
   "source": [
    "Return values:\n",
    "\n",
    "L float: Page’s L statistic\n",
    "\n",
    "m int: Number of replications (по строкам)\n",
    "\n",
    "n int: Number of treatments (по столбцам)\n",
    "\n",
    "p float: P-value"
   ]
  },
  {
   "cell_type": "code",
   "execution_count": null,
   "metadata": {},
   "outputs": [],
   "source": []
  }
 ],
 "metadata": {
  "kernelspec": {
   "display_name": "Python 3",
   "language": "python",
   "name": "python3"
  },
  "language_info": {
   "codemirror_mode": {
    "name": "ipython",
    "version": 3
   },
   "file_extension": ".py",
   "mimetype": "text/x-python",
   "name": "python",
   "nbconvert_exporter": "python",
   "pygments_lexer": "ipython3",
   "version": "3.7.10"
  }
 },
 "nbformat": 4,
 "nbformat_minor": 1
}
