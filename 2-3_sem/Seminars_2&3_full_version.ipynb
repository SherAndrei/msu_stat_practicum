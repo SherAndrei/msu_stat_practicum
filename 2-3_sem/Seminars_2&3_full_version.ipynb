{
 "cells": [
  {
   "cell_type": "markdown",
   "metadata": {},
   "source": [
    "## Семинары 2 и 3. Проверка гипотез о параметрах одной выборки."
   ]
  },
  {
   "cell_type": "code",
   "execution_count": 1,
   "metadata": {},
   "outputs": [],
   "source": [
    "import numpy as np\n",
    "import matplotlib.pyplot as plt\n",
    "import pandas as pd"
   ]
  },
  {
   "cell_type": "code",
   "execution_count": 2,
   "metadata": {},
   "outputs": [],
   "source": [
    "import seaborn as sns\n",
    "sns.set()"
   ]
  },
  {
   "cell_type": "markdown",
   "metadata": {},
   "source": [
    "### t-test (1 sample)"
   ]
  },
  {
   "cell_type": "code",
   "execution_count": 3,
   "metadata": {},
   "outputs": [],
   "source": [
    "from scipy.stats import t #распределение Стьюдента"
   ]
  },
  {
   "cell_type": "markdown",
   "metadata": {},
   "source": [
    "##### Задача 1: Оцениваем средний уровень IQ профессоров университета города N. Можно ли утверждать на уровне значимости 10%, что средний уровень IQ профессоров выше 110 баллов? Данные в файле IQ.txt (решить задачу в предположении нормальности данных)."
   ]
  },
  {
   "cell_type": "code",
   "execution_count": 4,
   "metadata": {},
   "outputs": [],
   "source": [
    "iq_data = pd.read_csv(\"IQ.txt\")"
   ]
  },
  {
   "cell_type": "code",
   "execution_count": 5,
   "metadata": {},
   "outputs": [
    {
     "data": {
      "text/plain": [
       "pandas.core.frame.DataFrame"
      ]
     },
     "execution_count": 5,
     "metadata": {},
     "output_type": "execute_result"
    }
   ],
   "source": [
    "type(iq_data)"
   ]
  },
  {
   "cell_type": "markdown",
   "metadata": {},
   "source": [
    "##### Лирическое отступление: несколько примеров операций с DataFrame"
   ]
  },
  {
   "cell_type": "code",
   "execution_count": 6,
   "metadata": {},
   "outputs": [
    {
     "data": {
      "text/html": [
       "<div>\n",
       "<style scoped>\n",
       "    .dataframe tbody tr th:only-of-type {\n",
       "        vertical-align: middle;\n",
       "    }\n",
       "\n",
       "    .dataframe tbody tr th {\n",
       "        vertical-align: top;\n",
       "    }\n",
       "\n",
       "    .dataframe thead th {\n",
       "        text-align: right;\n",
       "    }\n",
       "</style>\n",
       "<table border=\"1\" class=\"dataframe\">\n",
       "  <thead>\n",
       "    <tr style=\"text-align: right;\">\n",
       "      <th></th>\n",
       "      <th>iq</th>\n",
       "    </tr>\n",
       "  </thead>\n",
       "  <tbody>\n",
       "    <tr>\n",
       "      <th>0</th>\n",
       "      <td>114</td>\n",
       "    </tr>\n",
       "    <tr>\n",
       "      <th>1</th>\n",
       "      <td>108</td>\n",
       "    </tr>\n",
       "  </tbody>\n",
       "</table>\n",
       "</div>"
      ],
      "text/plain": [
       "    iq\n",
       "0  114\n",
       "1  108"
      ]
     },
     "execution_count": 6,
     "metadata": {},
     "output_type": "execute_result"
    }
   ],
   "source": [
    "iq_data.head(2) #первые 2 строки"
   ]
  },
  {
   "cell_type": "code",
   "execution_count": 7,
   "metadata": {},
   "outputs": [
    {
     "data": {
      "text/plain": [
       "(50, 1)"
      ]
     },
     "execution_count": 7,
     "metadata": {},
     "output_type": "execute_result"
    }
   ],
   "source": [
    "iq_data.shape"
   ]
  },
  {
   "cell_type": "code",
   "execution_count": 8,
   "metadata": {},
   "outputs": [
    {
     "data": {
      "text/plain": [
       "Index(['iq'], dtype='object')"
      ]
     },
     "execution_count": 8,
     "metadata": {},
     "output_type": "execute_result"
    }
   ],
   "source": [
    "iq_data.columns"
   ]
  },
  {
   "cell_type": "code",
   "execution_count": 9,
   "metadata": {},
   "outputs": [
    {
     "data": {
      "text/plain": [
       "RangeIndex(start=0, stop=50, step=1)"
      ]
     },
     "execution_count": 9,
     "metadata": {},
     "output_type": "execute_result"
    }
   ],
   "source": [
    "iq_data.index #по умолчанию индекс по строкам - это RangeIndex от 0 до N-1, где N это количество строк в таблице"
   ]
  },
  {
   "cell_type": "code",
   "execution_count": 10,
   "metadata": {},
   "outputs": [
    {
     "data": {
      "text/html": [
       "<div>\n",
       "<style scoped>\n",
       "    .dataframe tbody tr th:only-of-type {\n",
       "        vertical-align: middle;\n",
       "    }\n",
       "\n",
       "    .dataframe tbody tr th {\n",
       "        vertical-align: top;\n",
       "    }\n",
       "\n",
       "    .dataframe thead th {\n",
       "        text-align: right;\n",
       "    }\n",
       "</style>\n",
       "<table border=\"1\" class=\"dataframe\">\n",
       "  <thead>\n",
       "    <tr style=\"text-align: right;\">\n",
       "      <th></th>\n",
       "      <th>iq</th>\n",
       "    </tr>\n",
       "  </thead>\n",
       "  <tbody>\n",
       "    <tr>\n",
       "      <th>30</th>\n",
       "      <td>112</td>\n",
       "    </tr>\n",
       "    <tr>\n",
       "      <th>31</th>\n",
       "      <td>112</td>\n",
       "    </tr>\n",
       "    <tr>\n",
       "      <th>32</th>\n",
       "      <td>110</td>\n",
       "    </tr>\n",
       "    <tr>\n",
       "      <th>33</th>\n",
       "      <td>107</td>\n",
       "    </tr>\n",
       "    <tr>\n",
       "      <th>34</th>\n",
       "      <td>111</td>\n",
       "    </tr>\n",
       "    <tr>\n",
       "      <th>35</th>\n",
       "      <td>114</td>\n",
       "    </tr>\n",
       "  </tbody>\n",
       "</table>\n",
       "</div>"
      ],
      "text/plain": [
       "     iq\n",
       "30  112\n",
       "31  112\n",
       "32  110\n",
       "33  107\n",
       "34  111\n",
       "35  114"
      ]
     },
     "execution_count": 10,
     "metadata": {},
     "output_type": "execute_result"
    }
   ],
   "source": [
    "iq_data.loc[30:35] #выбираем строки с индексами от 30 до 35 (включительно)"
   ]
  },
  {
   "cell_type": "code",
   "execution_count": 11,
   "metadata": {},
   "outputs": [
    {
     "data": {
      "text/html": [
       "<div>\n",
       "<style scoped>\n",
       "    .dataframe tbody tr th:only-of-type {\n",
       "        vertical-align: middle;\n",
       "    }\n",
       "\n",
       "    .dataframe tbody tr th {\n",
       "        vertical-align: top;\n",
       "    }\n",
       "\n",
       "    .dataframe thead th {\n",
       "        text-align: right;\n",
       "    }\n",
       "</style>\n",
       "<table border=\"1\" class=\"dataframe\">\n",
       "  <thead>\n",
       "    <tr style=\"text-align: right;\">\n",
       "      <th></th>\n",
       "      <th>iq</th>\n",
       "    </tr>\n",
       "  </thead>\n",
       "  <tbody>\n",
       "    <tr>\n",
       "      <th>30</th>\n",
       "      <td>112</td>\n",
       "    </tr>\n",
       "    <tr>\n",
       "      <th>32</th>\n",
       "      <td>110</td>\n",
       "    </tr>\n",
       "    <tr>\n",
       "      <th>34</th>\n",
       "      <td>111</td>\n",
       "    </tr>\n",
       "  </tbody>\n",
       "</table>\n",
       "</div>"
      ],
      "text/plain": [
       "     iq\n",
       "30  112\n",
       "32  110\n",
       "34  111"
      ]
     },
     "execution_count": 11,
     "metadata": {},
     "output_type": "execute_result"
    }
   ],
   "source": [
    "iq_data.loc[30:35:2]"
   ]
  },
  {
   "cell_type": "code",
   "execution_count": 12,
   "metadata": {
    "scrolled": true
   },
   "outputs": [
    {
     "data": {
      "text/plain": [
       "iq    107\n",
       "dtype: int64"
      ]
     },
     "execution_count": 12,
     "metadata": {},
     "output_type": "execute_result"
    }
   ],
   "source": [
    "iq_data.min()"
   ]
  },
  {
   "cell_type": "code",
   "execution_count": 13,
   "metadata": {},
   "outputs": [
    {
     "data": {
      "text/html": [
       "<div>\n",
       "<style scoped>\n",
       "    .dataframe tbody tr th:only-of-type {\n",
       "        vertical-align: middle;\n",
       "    }\n",
       "\n",
       "    .dataframe tbody tr th {\n",
       "        vertical-align: top;\n",
       "    }\n",
       "\n",
       "    .dataframe thead th {\n",
       "        text-align: right;\n",
       "    }\n",
       "</style>\n",
       "<table border=\"1\" class=\"dataframe\">\n",
       "  <thead>\n",
       "    <tr style=\"text-align: right;\">\n",
       "      <th></th>\n",
       "      <th>iq</th>\n",
       "    </tr>\n",
       "  </thead>\n",
       "  <tbody>\n",
       "    <tr>\n",
       "      <th>count</th>\n",
       "      <td>50.000000</td>\n",
       "    </tr>\n",
       "    <tr>\n",
       "      <th>mean</th>\n",
       "      <td>111.580000</td>\n",
       "    </tr>\n",
       "    <tr>\n",
       "      <th>std</th>\n",
       "      <td>2.129386</td>\n",
       "    </tr>\n",
       "    <tr>\n",
       "      <th>min</th>\n",
       "      <td>107.000000</td>\n",
       "    </tr>\n",
       "    <tr>\n",
       "      <th>25%</th>\n",
       "      <td>111.000000</td>\n",
       "    </tr>\n",
       "    <tr>\n",
       "      <th>50%</th>\n",
       "      <td>111.000000</td>\n",
       "    </tr>\n",
       "    <tr>\n",
       "      <th>75%</th>\n",
       "      <td>113.000000</td>\n",
       "    </tr>\n",
       "    <tr>\n",
       "      <th>max</th>\n",
       "      <td>118.000000</td>\n",
       "    </tr>\n",
       "  </tbody>\n",
       "</table>\n",
       "</div>"
      ],
      "text/plain": [
       "               iq\n",
       "count   50.000000\n",
       "mean   111.580000\n",
       "std      2.129386\n",
       "min    107.000000\n",
       "25%    111.000000\n",
       "50%    111.000000\n",
       "75%    113.000000\n",
       "max    118.000000"
      ]
     },
     "execution_count": 13,
     "metadata": {},
     "output_type": "execute_result"
    }
   ],
   "source": [
    "iq_data.describe()"
   ]
  },
  {
   "cell_type": "code",
   "execution_count": 14,
   "metadata": {},
   "outputs": [],
   "source": [
    "iq = iq_data['iq'] #в задаче будем работать только с одним столбцом под названием 'iq'"
   ]
  },
  {
   "cell_type": "code",
   "execution_count": 15,
   "metadata": {},
   "outputs": [
    {
     "data": {
      "text/plain": [
       "pandas.core.series.Series"
      ]
     },
     "execution_count": 15,
     "metadata": {},
     "output_type": "execute_result"
    }
   ],
   "source": [
    "type(iq) # столбцами в объекте DataFrame выступают объекты Series"
   ]
  },
  {
   "cell_type": "markdown",
   "metadata": {},
   "source": [
    "##### ... и несколько примеров для Series"
   ]
  },
  {
   "cell_type": "code",
   "execution_count": 16,
   "metadata": {},
   "outputs": [
    {
     "data": {
      "text/plain": [
       "RangeIndex(start=0, stop=50, step=1)"
      ]
     },
     "execution_count": 16,
     "metadata": {},
     "output_type": "execute_result"
    }
   ],
   "source": [
    "iq.index"
   ]
  },
  {
   "cell_type": "code",
   "execution_count": 17,
   "metadata": {
    "scrolled": true
   },
   "outputs": [
    {
     "data": {
      "text/plain": [
       "array([114, 108, 109, 111, 112, 109, 113, 113, 111, 113, 113, 114, 109,\n",
       "       113, 111, 112, 111, 109, 114, 109, 114, 111, 111, 113, 118, 112,\n",
       "       113, 110, 111, 111, 112, 112, 110, 107, 111, 114, 112, 113, 112,\n",
       "       111, 111, 108, 111, 111, 111, 111, 109, 114, 117, 110])"
      ]
     },
     "execution_count": 17,
     "metadata": {},
     "output_type": "execute_result"
    }
   ],
   "source": [
    "iq.values"
   ]
  },
  {
   "cell_type": "code",
   "execution_count": 18,
   "metadata": {},
   "outputs": [
    {
     "data": {
      "text/plain": [
       "2    109\n",
       "3    111\n",
       "4    112\n",
       "5    109\n",
       "Name: iq, dtype: int64"
      ]
     },
     "execution_count": 18,
     "metadata": {},
     "output_type": "execute_result"
    }
   ],
   "source": [
    "iq.loc[2:5] #выбираем по индексу"
   ]
  },
  {
   "cell_type": "code",
   "execution_count": 19,
   "metadata": {},
   "outputs": [
    {
     "data": {
      "text/plain": [
       "0     114\n",
       "11    114\n",
       "18    114\n",
       "20    114\n",
       "24    118\n",
       "35    114\n",
       "47    114\n",
       "48    117\n",
       "Name: iq, dtype: int64"
      ]
     },
     "execution_count": 19,
     "metadata": {},
     "output_type": "execute_result"
    }
   ],
   "source": [
    "iq [iq > 113]"
   ]
  },
  {
   "cell_type": "markdown",
   "metadata": {},
   "source": [
    "##### Возвращаемся к задаче 1"
   ]
  },
  {
   "cell_type": "code",
   "execution_count": 20,
   "metadata": {},
   "outputs": [],
   "source": [
    "#iq = iq_data['iq']"
   ]
  },
  {
   "cell_type": "markdown",
   "metadata": {},
   "source": [
    "Вопрос про среднее и про дисперсию в задаче по условию ничего не известно, значит пользуемся вторым типом задач с нормальной выборкой: t-test\n",
    "\n",
    "\n",
    "$H_0 : a = a_0 = 110$\n",
    "\n",
    "$H_1 : a > a_0$"
   ]
  },
  {
   "cell_type": "code",
   "execution_count": 21,
   "metadata": {},
   "outputs": [
    {
     "data": {
      "text/plain": [
       "5.246717100021899"
      ]
     },
     "execution_count": 21,
     "metadata": {},
     "output_type": "execute_result"
    }
   ],
   "source": [
    "# Проверка теста вручную с помощью построения критического множества и статистики:\n",
    "alpha = .1 # уровень значимости\n",
    "n = len(iq) # объем данных\n",
    "iq_mean = np.mean(iq) # x с чертой\n",
    "iq_s = np.std(iq, ddof=1) #ddof=1: считаем исправленное(!) ср. кв. отклонение\n",
    "t_stat = (iq_mean - 110) * np.sqrt(n) / iq_s # t - статистика для проверки гипотезы\n",
    "t_stat"
   ]
  },
  {
   "cell_type": "markdown",
   "metadata": {},
   "source": [
    "Правосторонняя альтернатива, значит и $C_{kp}$ тоже правостороннее"
   ]
  },
  {
   "cell_type": "code",
   "execution_count": 22,
   "metadata": {},
   "outputs": [
    {
     "data": {
      "text/plain": [
       "1.2990687845090696"
      ]
     },
     "execution_count": 22,
     "metadata": {},
     "output_type": "execute_result"
    }
   ],
   "source": [
    "#Критическое множество для правосторонней альтернативы: от квантиля до бесконечности \n",
    "iq_crit = t.ppf(1-alpha, n-1)\n",
    "iq_crit\n",
    "#Смотрим, попала статистика в критическое множество или нет, делаем вывод"
   ]
  },
  {
   "cell_type": "markdown",
   "metadata": {},
   "source": [
    "Так как t_stat попал в луч $[iq\\_crit, +\\infty]$, то отвергаем $H_0$ в пользу $H_1$. То есть средний IQ правда больше 110"
   ]
  },
  {
   "cell_type": "markdown",
   "metadata": {},
   "source": [
    "Как посчитать $p\\_value$? Для правосторонней альтернативы и для правостороннего луча в $C_{kp}$ по определению это \n",
    "$$\\mathrm{P}(t(n-1) \\geq t\\_stat) = 1 - \\mathrm{F}_{t(n-1)}(t\\_stat)$$"
   ]
  },
  {
   "cell_type": "code",
   "execution_count": 23,
   "metadata": {},
   "outputs": [
    {
     "data": {
      "text/plain": [
       "1.6510433925587265e-06"
      ]
     },
     "execution_count": 23,
     "metadata": {},
     "output_type": "execute_result"
    }
   ],
   "source": [
    "# Можно также вручную посчитать p-value:\n",
    "t_p_value = 1 - t.cdf(t_stat, n-1)\n",
    "t_p_value"
   ]
  },
  {
   "cell_type": "markdown",
   "metadata": {},
   "source": [
    "Получается, что $p\\_value < \\alpha \\Rightarrow $ принимаем $H_1$"
   ]
  },
  {
   "cell_type": "code",
   "execution_count": 24,
   "metadata": {},
   "outputs": [
    {
     "data": {
      "text/plain": [
       "'0.0000017'"
      ]
     },
     "execution_count": 24,
     "metadata": {},
     "output_type": "execute_result"
    }
   ],
   "source": [
    "\"{0:.7f}\".format(t_p_value)"
   ]
  },
  {
   "cell_type": "code",
   "execution_count": 25,
   "metadata": {},
   "outputs": [],
   "source": [
    "# Можем записать полученное p-value в файл:\n",
    "file1 = open(\"answer.txt\",\"w+\") \n",
    "file1.write(str(t_p_value))\n",
    "file1.close()"
   ]
  },
  {
   "cell_type": "code",
   "execution_count": 26,
   "metadata": {},
   "outputs": [
    {
     "data": {
      "text/plain": [
       "3.3020867852360663e-06"
      ]
     },
     "execution_count": 26,
     "metadata": {},
     "output_type": "execute_result"
    }
   ],
   "source": [
    "#Проверка гипотезы с помощью t-теста:\n",
    "from scipy.stats import ttest_1samp\n",
    "# Есть только двусторонний (для одностороннего теста делим p-value на 2):\n",
    "ttest_1samp(iq, popmean=110)[1]"
   ]
  },
  {
   "cell_type": "markdown",
   "metadata": {},
   "source": [
    "Считаем, что если тест дает значние p_value для своей альтернативы, мы для нашей делим ее на два"
   ]
  },
  {
   "cell_type": "markdown",
   "metadata": {},
   "source": [
    "##### Задача 2:\tВ городе Ивановск проведено выборочное исследование доходов жителей. По выборке из 500 человек получено среднее 23800 руб. и среднее квадратическое отклонение 400 руб. Можно ли утверждать на уровне значимости 5%, что средний доход жителей составляет менее 25000 руб? Решить задачу в предположении нормальности данных."
   ]
  },
  {
   "cell_type": "markdown",
   "metadata": {},
   "source": [
    "Не знаем дисперсию, гипотеза про $a \\Rightarrow t-test$\n",
    "\n",
    "$H_0: a = a_0 = 25000$\n",
    "\n",
    "$H_1: a < a_0$"
   ]
  },
  {
   "cell_type": "code",
   "execution_count": 27,
   "metadata": {},
   "outputs": [],
   "source": [
    "alpha = .05\n",
    "n = 500\n",
    "mean_ivan = 23800\n",
    "s_ivan = 400 * np.sqrt(n) / np.sqrt(n-1) #получим именно исправленное среднее кв. отклонение \n",
    "# ищем ее потому что выборка"
   ]
  },
  {
   "cell_type": "code",
   "execution_count": 28,
   "metadata": {},
   "outputs": [
    {
     "data": {
      "text/plain": [
       "-67.01492371106603"
      ]
     },
     "execution_count": 28,
     "metadata": {},
     "output_type": "execute_result"
    }
   ],
   "source": [
    "t_statistics = (mean_ivan - 25000) * np.sqrt(n) / s_ivan\n",
    "t_statistics"
   ]
  },
  {
   "cell_type": "markdown",
   "metadata": {},
   "source": [
    "Альренатива левосторонняя, следовательно $C_{kp}=[-\\infty, t_{\\alpha}]$\n",
    "\n",
    "Считаем квантиль:"
   ]
  },
  {
   "cell_type": "code",
   "execution_count": 29,
   "metadata": {},
   "outputs": [
    {
     "data": {
      "text/plain": [
       "-1.6479129840597067"
      ]
     },
     "execution_count": 29,
     "metadata": {},
     "output_type": "execute_result"
    }
   ],
   "source": [
    "crit_ivan = t.ppf(alpha, n-1)\n",
    "crit_ivan"
   ]
  },
  {
   "cell_type": "markdown",
   "metadata": {},
   "source": [
    "Аналогично наше $p\\_value$ принмает значение $\\mathrm{F}_{t(n-1)}(t\\_statistics)$"
   ]
  },
  {
   "cell_type": "code",
   "execution_count": 30,
   "metadata": {},
   "outputs": [
    {
     "data": {
      "text/plain": [
       "5.948735947237364e-252"
      ]
     },
     "execution_count": 30,
     "metadata": {},
     "output_type": "execute_result"
    }
   ],
   "source": [
    "ivan_p_value = t.cdf(t_statistics, n-1)\n",
    "ivan_p_value"
   ]
  },
  {
   "cell_type": "markdown",
   "metadata": {},
   "source": [
    "Во-первых, статистика $t\\_statistics$ попала в критическое множество,\n",
    "во-вторых, $p\\_value < \\alpha$. Значит верна $H_1$, то есть действительно зарплаты меньше 25к"
   ]
  },
  {
   "cell_type": "markdown",
   "metadata": {},
   "source": [
    "### Проверка гипотезы о дисперсии нормального распределения"
   ]
  },
  {
   "cell_type": "markdown",
   "metadata": {},
   "source": [
    "##### Задача 3: Партия изделий принимается, если дисперсия размеров не превышает 0.2. Исправленная выборочная дисперсия для 30 изделий оказалась равной 0.3. Можно ли принять партию на уровне значимости 5%? Решить задачу в предположении нормальности данных."
   ]
  },
  {
   "cell_type": "markdown",
   "metadata": {},
   "source": [
    "Гипотезу строим о дисперсии и мат. ожидание неизвестно $\\Rightarrow$ 4 тип задачи\n",
    "\n",
    "$H_0: \\sigma^2 = \\sigma^2_0 = 0.2$\n",
    "\n",
    "$H_1: \\sigma^2 > \\sigma^2_0$"
   ]
  },
  {
   "cell_type": "code",
   "execution_count": 31,
   "metadata": {},
   "outputs": [],
   "source": [
    "from scipy.stats import chi2"
   ]
  },
  {
   "cell_type": "code",
   "execution_count": 32,
   "metadata": {},
   "outputs": [
    {
     "data": {
      "text/plain": [
       "43.49999999999999"
      ]
     },
     "execution_count": 32,
     "metadata": {},
     "output_type": "execute_result"
    }
   ],
   "source": [
    "#Проверка гипотезы вручную с помощью построения критического множества и статистики:\n",
    "alpha = .05\n",
    "n = 30\n",
    "s2_izd = 0.3 # исправленная выборочная дисперсия\n",
    "T = (n-1) * s2_izd / (0.2)\n",
    "T"
   ]
  },
  {
   "cell_type": "code",
   "execution_count": 33,
   "metadata": {},
   "outputs": [
    {
     "data": {
      "text/plain": [
       "42.55696780429269"
      ]
     },
     "execution_count": 33,
     "metadata": {},
     "output_type": "execute_result"
    }
   ],
   "source": [
    "#Критическое множество для правосторонней альтернативы: от квантиля до бесконечности\n",
    "crit_izd = chi2.ppf(1-alpha, n-1)\n",
    "crit_izd\n",
    "#Смотрим, попала статистика в критическое множество или нет, делаем вывод"
   ]
  },
  {
   "cell_type": "markdown",
   "metadata": {},
   "source": [
    "Статистика попала в критическое множество, значит верна $H_1$, то есть принять новую партию не можем"
   ]
  },
  {
   "cell_type": "code",
   "execution_count": 34,
   "metadata": {},
   "outputs": [
    {
     "data": {
      "text/plain": [
       "0.04090600501293307"
      ]
     },
     "execution_count": 34,
     "metadata": {},
     "output_type": "execute_result"
    }
   ],
   "source": [
    "# p-value:\n",
    "p_value_izd = 1 - chi2.cdf(T, n-1)\n",
    "p_value_izd"
   ]
  },
  {
   "cell_type": "markdown",
   "metadata": {},
   "source": [
    "### Критерий Вальда"
   ]
  },
  {
   "cell_type": "markdown",
   "metadata": {},
   "source": [
    "##### Задача 4: "
   ]
  },
  {
   "cell_type": "markdown",
   "metadata": {},
   "source": [
    "Рассмотрим гамма-распределение с плотностью $f(x) = \\frac{\\theta^{-\\alpha}}{\\Gamma(\\alpha)} x^{\\alpha-1} e^ {\\frac{-x}{\\theta}}, \\ x \\ge 0.$"
   ]
  },
  {
   "cell_type": "markdown",
   "metadata": {},
   "source": [
    "Гипотеза $H_0$: $\\alpha \\theta = E[X_1] = 1$"
   ]
  },
  {
   "cell_type": "markdown",
   "metadata": {},
   "source": [
    "Альтернатива $H_1$: $E[X_1] \\neq 1$"
   ]
  },
  {
   "cell_type": "markdown",
   "metadata": {},
   "source": [
    "Будем рассматривать статистику Вальда\n",
    "\n",
    "$$ T(X) = \\frac{\\sum_{i=1}^{n}X_i - n\\mu}{\\sqrt{ns^2}}, \\ $$ где $\\mu - $ это предполагаемое математическое ожидание (в нашем случае будет $\\mu = 1$). "
   ]
  },
  {
   "cell_type": "code",
   "execution_count": 35,
   "metadata": {},
   "outputs": [],
   "source": [
    "import numpy as np\n",
    "from scipy.stats import gamma, norm"
   ]
  },
  {
   "cell_type": "code",
   "execution_count": 36,
   "metadata": {},
   "outputs": [],
   "source": [
    "def calc_wald_statistics(X, assumed_mean): #статистика Вальда для одной выборки \n",
    "    X = np.array(X)\n",
    "    n = len(X)\n",
    "    return (X.sum() - n * assumed_mean) / np.sqrt(n * X.var(ddof=1)) "
   ]
  },
  {
   "cell_type": "markdown",
   "metadata": {},
   "source": [
    "При $H_0$ статистика Вальда стремится к $N(0, 1)$ с ростом количества элементов выборки. Тест устроен следующим образом:\n",
    "\n",
    "Двусторонняя альтернатива, критическое множество в две стороны.\n",
    "Если $|T(X)| > z_{1-\\alpha/2}$ (в один из двух лучей $C_{kp}$), то гипотеза $H_0$ отвергается, иначе $H_0$ принимается. Будем проводить тест с уровнем значимости $\\alpha = 0.05$. \n"
   ]
  },
  {
   "cell_type": "code",
   "execution_count": 37,
   "metadata": {},
   "outputs": [
    {
     "data": {
      "text/plain": [
       "1.959963984540054"
      ]
     },
     "execution_count": 37,
     "metadata": {},
     "output_type": "execute_result"
    }
   ],
   "source": [
    "alpha = 0.05\n",
    "norm_threshold = norm.ppf(1.0 - 0.5 * alpha)\n",
    "norm_threshold"
   ]
  },
  {
   "cell_type": "markdown",
   "metadata": {},
   "source": [
    "Так будет выглядеть статистика, построенная по выборке, удовлетворяющей $H_0$"
   ]
  },
  {
   "cell_type": "code",
   "execution_count": 38,
   "metadata": {},
   "outputs": [
    {
     "data": {
      "text/plain": [
       "-1.6650165792533151"
      ]
     },
     "execution_count": 38,
     "metadata": {},
     "output_type": "execute_result"
    }
   ],
   "source": [
    "h0_cws = calc_wald_statistics (gamma.rvs(a = 1, scale = 1, size=2000), 1) #a - это параметр альфа, scale - параметр тета\n",
    "h0_cws"
   ]
  },
  {
   "cell_type": "markdown",
   "metadata": {},
   "source": [
    "Cтатистика, которая удовлетворяет $H_1$"
   ]
  },
  {
   "cell_type": "code",
   "execution_count": 39,
   "metadata": {},
   "outputs": [
    {
     "data": {
      "text/plain": [
       "65.33413342839002"
      ]
     },
     "execution_count": 39,
     "metadata": {},
     "output_type": "execute_result"
    }
   ],
   "source": [
    "h1_cws = calc_wald_statistics (gamma.rvs(a = 3, scale = 2, size=2000), 1)\n",
    "h1_cws"
   ]
  },
  {
   "cell_type": "markdown",
   "metadata": {},
   "source": [
    "Асимптотический признак, поэтому $p\\_value$ не очень точный"
   ]
  },
  {
   "cell_type": "code",
   "execution_count": 40,
   "metadata": {},
   "outputs": [
    {
     "data": {
      "text/plain": [
       "0.0959094481850775"
      ]
     },
     "execution_count": 40,
     "metadata": {},
     "output_type": "execute_result"
    }
   ],
   "source": [
    "p_value = 2*np.min([ norm.cdf(h0_cws), 1 - norm.cdf(h0_cws) ])\n",
    "p_value"
   ]
  },
  {
   "cell_type": "markdown",
   "metadata": {},
   "source": [
    "Но ведь статистика Вальда имеет не нормальное распределение, а лишь стремится к нему, поэтому заявленный уровень значимости (0.05) будет отличаться от истинного. Попробуем оценить истинный уровень значимости."
   ]
  },
  {
   "cell_type": "code",
   "execution_count": 41,
   "metadata": {},
   "outputs": [],
   "source": [
    "samples_count = 1000 #объем каждой выборки\n",
    "iters_count = 10000 #количество выборок\n",
    "\n",
    "h0_a = 2.0 #параметр альфа\n",
    "h0_scale = 0.5 #параметр тета\n",
    "h0_samples = gamma.rvs(a = h0_a, scale = h0_scale, size=(iters_count, samples_count))"
   ]
  },
  {
   "cell_type": "code",
   "execution_count": 42,
   "metadata": {},
   "outputs": [
    {
     "data": {
      "text/plain": [
       "numpy.ndarray"
      ]
     },
     "execution_count": 42,
     "metadata": {},
     "output_type": "execute_result"
    }
   ],
   "source": [
    "type(h0_samples)"
   ]
  },
  {
   "cell_type": "code",
   "execution_count": 43,
   "metadata": {},
   "outputs": [
    {
     "data": {
      "text/plain": [
       "(10000, 1000)"
      ]
     },
     "execution_count": 43,
     "metadata": {},
     "output_type": "execute_result"
    }
   ],
   "source": [
    "h0_samples.shape"
   ]
  },
  {
   "cell_type": "code",
   "execution_count": 44,
   "metadata": {},
   "outputs": [],
   "source": [
    "def calc_wald_statistics_multirow(X, samples_count, assumed_mean):\n",
    "#     получим array из статистик Вальда\n",
    "    X = np.array(X)[:, : samples_count]\n",
    "    n = X.shape[1] # n=samples_count (объем каждой выборки)\n",
    "    return (X.sum(axis=1) - n * assumed_mean) / np.sqrt(n * X.var(ddof=1, axis=1)) #axis=1: см. по строкам"
   ]
  },
  {
   "cell_type": "code",
   "execution_count": 45,
   "metadata": {},
   "outputs": [],
   "source": [
    "h0_stat_values = calc_wald_statistics_multirow(h0_samples, 1000, h0_a * h0_scale)"
   ]
  },
  {
   "cell_type": "code",
   "execution_count": 46,
   "metadata": {},
   "outputs": [
    {
     "data": {
      "text/plain": [
       "0.0538"
      ]
     },
     "execution_count": 46,
     "metadata": {},
     "output_type": "execute_result"
    }
   ],
   "source": [
    "np.sum(np.abs(h0_stat_values) > norm_threshold) / float(iters_count) #iters_count -- количество выборок"
   ]
  },
  {
   "cell_type": "markdown",
   "metadata": {},
   "source": [
    "Теперь посмотрим на истинный уровень значимости при различных $n$"
   ]
  },
  {
   "cell_type": "code",
   "execution_count": 47,
   "metadata": {},
   "outputs": [],
   "source": [
    "from tqdm import tqdm"
   ]
  },
  {
   "cell_type": "code",
   "execution_count": 48,
   "metadata": {},
   "outputs": [
    {
     "name": "stderr",
     "output_type": "stream",
     "text": [
      "100%|██████████| 100/100 [00:05<00:00, 19.81it/s]\n"
     ]
    }
   ],
   "source": [
    "significance_levels = [] #или так: significance_levels = list()\n",
    "\n",
    "for n in tqdm(range(10, 1000 + 1, 10)):\n",
    "    h0_stat_values = calc_wald_statistics_multirow(h0_samples, n, h0_a * h0_scale)\n",
    "    significance_levels.append(np.sum(np.abs(h0_stat_values) > norm_threshold) / float(iters_count))\n",
    "# append: присоединение нового элемента в конец списка    "
   ]
  },
  {
   "cell_type": "code",
   "execution_count": 49,
   "metadata": {},
   "outputs": [
    {
     "data": {
      "image/png": "[encoded data removed]",
      "text/plain": [
       "<Figure size 864x432 with 1 Axes>"
      ]
     },
     "metadata": {},
     "output_type": "display_data"
    }
   ],
   "source": [
    "plt.figure(figsize = (12,6))\n",
    "plt.xlabel(\"count of samples\")\n",
    "plt.ylabel(\"significance level\")\n",
    "plt.plot(range(10, 1000 + 1, 10), significance_levels, label=\"estimated real\")\n",
    "plt.plot(range(10, 1000 + 1, 10), [alpha for i in range(10, 1000 + 1, 10)], color='red', label=\"theoretical\")\n",
    "plt.legend(loc = 1)\n",
    "pass"
   ]
  },
  {
   "cell_type": "markdown",
   "metadata": {},
   "source": [
    "### Метод выборочных квантилей"
   ]
  },
  {
   "cell_type": "markdown",
   "metadata": {},
   "source": [
    "##### Задача 5: "
   ]
  },
  {
   "cell_type": "markdown",
   "metadata": {},
   "source": [
    "Рассмотрим распределение Коши с плотностью $f(x) = \\frac{1}{\\pi (1 + (x - x_0)^2)}.$"
   ]
  },
  {
   "cell_type": "markdown",
   "metadata": {},
   "source": [
    "Гипотеза $H_0$: $x_0 = 0$"
   ]
  },
  {
   "cell_type": "markdown",
   "metadata": {},
   "source": [
    "Альтернатива $H_1$: $x_0 \\neq 0$"
   ]
  },
  {
   "cell_type": "markdown",
   "metadata": {},
   "source": [
    "Мы не можем здесь рассматривать статистику Вальда. Но знаем, что при $H_0$ статистика\n",
    "\n",
    "$$ T(X) = \\frac{\\sqrt{n} \\widehat{z}_{0.5}}{\\frac{\\pi}{2}} $$ стремится к $N(0, 1)$ с ростом количества элементов выборки. Тест снова устроен следующим образом:\n",
    "\n",
    "Если $|T(X)| > z_{1-\\alpha/2}$, то гипотеза $H_0$ отвергается, иначе $H_0$ принимается. Проведем тест с уровнем значимости $\\alpha = 0.05$. "
   ]
  },
  {
   "cell_type": "code",
   "execution_count": 50,
   "metadata": {},
   "outputs": [],
   "source": [
    "from scipy.stats import cauchy"
   ]
  },
  {
   "cell_type": "code",
   "execution_count": 51,
   "metadata": {},
   "outputs": [],
   "source": [
    "def calc_statistics(X):\n",
    "    X = np.array(X)\n",
    "    n=len(X)\n",
    "    return 2 * np.sqrt(n) * np.percentile(X, 50, interpolation='lower') / (np.pi)"
   ]
  },
  {
   "cell_type": "code",
   "execution_count": 52,
   "metadata": {},
   "outputs": [
    {
     "data": {
      "text/plain": [
       "1.959963984540054"
      ]
     },
     "execution_count": 52,
     "metadata": {},
     "output_type": "execute_result"
    }
   ],
   "source": [
    "alpha = 0.05\n",
    "norm_threshold = norm.ppf(1.0 - 0.5 * alpha)\n",
    "norm_threshold"
   ]
  },
  {
   "cell_type": "code",
   "execution_count": 53,
   "metadata": {},
   "outputs": [
    {
     "data": {
      "text/plain": [
       "0.23644100676356072"
      ]
     },
     "execution_count": 53,
     "metadata": {},
     "output_type": "execute_result"
    }
   ],
   "source": [
    "h0_sample = cauchy.rvs(size = 1000)\n",
    "h0_cs = calc_statistics (h0_sample) \n",
    "h0_cs"
   ]
  },
  {
   "cell_type": "code",
   "execution_count": 54,
   "metadata": {},
   "outputs": [
    {
     "data": {
      "text/plain": [
       "40.59368739324812"
      ]
     },
     "execution_count": 54,
     "metadata": {},
     "output_type": "execute_result"
    }
   ],
   "source": [
    "h1_sample = cauchy.rvs(size = 1000, loc=2)\n",
    "h1_cs = calc_statistics (h1_sample) \n",
    "h1_cs"
   ]
  },
  {
   "cell_type": "markdown",
   "metadata": {},
   "source": [
    "### Непараметрические критерии"
   ]
  },
  {
   "cell_type": "markdown",
   "metadata": {},
   "source": [
    "##### Задача 6: В городе N проведены выборочные обследования доходов жителей. Проверить на уровне значимости 3% утверждение о том, что средняя зарплата жителей в городе N менее 40000 руб. Данные в файле City.txt. "
   ]
  },
  {
   "cell_type": "markdown",
   "metadata": {},
   "source": [
    "В случае непараметрического \"среднее\" это не мат. ожидание, а медиана. То есть говорим, что зарплаты получены из непрерывного распределения и медианы этих зарплат 40к"
   ]
  },
  {
   "cell_type": "markdown",
   "metadata": {},
   "source": [
    "$H_0: \\theta = \\theta_0 = 40000$\n",
    "\n",
    "$H_1: \\theta < \\theta_0$"
   ]
  },
  {
   "cell_type": "markdown",
   "metadata": {},
   "source": [
    "###  Одновыборочный критерий знаков"
   ]
  },
  {
   "cell_type": "code",
   "execution_count": 66,
   "metadata": {},
   "outputs": [],
   "source": [
    "city = pd.read_csv(\"City.txt\") \n",
    "city = city['City']"
   ]
  },
  {
   "cell_type": "markdown",
   "metadata": {},
   "source": [
    "Модифицируем z"
   ]
  },
  {
   "cell_type": "code",
   "execution_count": 67,
   "metadata": {},
   "outputs": [],
   "source": [
    "z = city - 40000"
   ]
  },
  {
   "cell_type": "code",
   "execution_count": 68,
   "metadata": {},
   "outputs": [],
   "source": [
    "z = z[z!=0] #убираем для критерия знаков нулевые элементы Z_i"
   ]
  },
  {
   "cell_type": "code",
   "execution_count": 72,
   "metadata": {},
   "outputs": [
    {
     "data": {
      "text/plain": [
       "numpy.float64"
      ]
     },
     "execution_count": 72,
     "metadata": {},
     "output_type": "execute_result"
    }
   ],
   "source": [
    "b = sum(z > 0) #количество Z_i > 0\n",
    "n = len(z)\n",
    "\n",
    "#Критерий знаков = бином.критерий с H_0: p=0.5 \n",
    "from scipy.stats import binom_test\n",
    "type(binom_test(b, n,  p=0.5))\n",
    "#так получим p-value для двусторонней альтернативы"
   ]
  },
  {
   "cell_type": "code",
   "execution_count": 70,
   "metadata": {},
   "outputs": [
    {
     "data": {
      "text/plain": [
       "0.45248726322973076"
      ]
     },
     "execution_count": 70,
     "metadata": {},
     "output_type": "execute_result"
    }
   ],
   "source": [
    "#если данные корректны, для односторонней альтернативы необходимо просто поделить это p-value на 2:\n",
    "sign_res=binom_test(b, n,  p=0.5)\n",
    "sign_res/2.0"
   ]
  },
  {
   "cell_type": "code",
   "execution_count": 60,
   "metadata": {},
   "outputs": [
    {
     "data": {
      "text/plain": [
       "0.45248726322973076"
      ]
     },
     "execution_count": 60,
     "metadata": {},
     "output_type": "execute_result"
    }
   ],
   "source": [
    "#или можно посчитать вручную p-value с помощью функции распределения:\n",
    "from scipy.stats import binom\n",
    "binom.cdf(b, n, 0.5)\n",
    "\n",
    "# NB!! Важно понимать, что для правосторонней альтернативы \n",
    "# мы должны написать 1 - binom.cdf(b - 1, n, 0.5), т.е. именно b-1, а не просто b из-за дискретности"
   ]
  },
  {
   "cell_type": "markdown",
   "metadata": {},
   "source": [
    "$p\\_value>\\alpha \\Rightarrow H_0$"
   ]
  },
  {
   "cell_type": "markdown",
   "metadata": {},
   "source": [
    "##### Асимптотический критерий знаков"
   ]
  },
  {
   "cell_type": "code",
   "execution_count": 71,
   "metadata": {},
   "outputs": [
    {
     "data": {
      "text/plain": [
       "0.40553506466695377"
      ]
     },
     "execution_count": 71,
     "metadata": {},
     "output_type": "execute_result"
    }
   ],
   "source": [
    "#Находим новую статистику:\n",
    "b_star = (b - n*0.5) / np.sqrt(n*0.25)\n",
    "#Находим новое p-value (для левосторонней альтернативы!):\n",
    "from scipy.stats import norm\n",
    "norm.cdf(b_star, loc=0, scale=1)"
   ]
  },
  {
   "cell_type": "markdown",
   "metadata": {},
   "source": [
    "### Одновыборочный знако-ранговый критерий Вилкоксона (Wilcoxon signed-rank test)"
   ]
  },
  {
   "cell_type": "code",
   "execution_count": 62,
   "metadata": {},
   "outputs": [],
   "source": [
    "z = city - 40000"
   ]
  },
  {
   "cell_type": "code",
   "execution_count": 63,
   "metadata": {},
   "outputs": [],
   "source": [
    "z = z[z!=0] #убираем для критерия знаков нулевые элементы Z_i"
   ]
  },
  {
   "cell_type": "code",
   "execution_count": 64,
   "metadata": {},
   "outputs": [
    {
     "data": {
      "text/plain": [
       "WilcoxonResult(statistic=1080.5, pvalue=0.34310010970365357)"
      ]
     },
     "execution_count": 64,
     "metadata": {},
     "output_type": "execute_result"
    }
   ],
   "source": [
    "from scipy.stats import wilcoxon\n",
    "#тест использует нормальную аппроксимацию (которую рекомендуется применять при n>20)\n",
    "wilcoxon(z)\n",
    "#второе значение результата - это p-value для двусторонней альтернативы"
   ]
  },
  {
   "cell_type": "code",
   "execution_count": 65,
   "metadata": {},
   "outputs": [
    {
     "data": {
      "text/plain": [
       "0.17155005485182678"
      ]
     },
     "execution_count": 65,
     "metadata": {},
     "output_type": "execute_result"
    }
   ],
   "source": [
    "#если данные корректны, для односторонней альтернативы необходимо просто поделить это p-value на 2:\n",
    "signed_rank_res = wilcoxon(z)\n",
    "signed_rank_res.pvalue/2.0"
   ]
  },
  {
   "cell_type": "code",
   "execution_count": null,
   "metadata": {},
   "outputs": [],
   "source": []
  },
  {
   "cell_type": "code",
   "execution_count": null,
   "metadata": {},
   "outputs": [],
   "source": []
  }
 ],
 "metadata": {
  "kernelspec": {
   "display_name": "Python 3",
   "language": "python",
   "name": "python3"
  },
  "language_info": {
   "codemirror_mode": {
    "name": "ipython",
    "version": 3
   },
   "file_extension": ".py",
   "mimetype": "text/x-python",
   "name": "python",
   "nbconvert_exporter": "python",
   "pygments_lexer": "ipython3",
   "version": "3.7.10"
  }
 },
 "nbformat": 4,
 "nbformat_minor": 2
}
