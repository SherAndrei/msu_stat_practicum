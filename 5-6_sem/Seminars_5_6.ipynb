{
 "cells": [
  {
   "cell_type": "markdown",
   "metadata": {},
   "source": [
    "## Семинар 5. Корреляция."
   ]
  },
  {
   "cell_type": "code",
   "execution_count": 1,
   "metadata": {},
   "outputs": [],
   "source": [
    "import pandas as pd\n",
    "import numpy as np\n",
    "import scipy as sp\n",
    "import matplotlib.pyplot as plt\n",
    "import scipy.stats as st"
   ]
  },
  {
   "cell_type": "code",
   "execution_count": 2,
   "metadata": {},
   "outputs": [],
   "source": [
    "from scipy.stats import spearmanr, pearsonr, kendalltau"
   ]
  },
  {
   "cell_type": "markdown",
   "metadata": {},
   "source": [
    "#### Пример 1."
   ]
  },
  {
   "cell_type": "code",
   "execution_count": 3,
   "metadata": {},
   "outputs": [],
   "source": [
    "example = pd.read_csv(\"Example1.txt\")\n",
    "x = example['x']\n",
    "y = example['y']\n",
    "#Изучим вопрос о независимости (некоррелируемости) признаков x и y"
   ]
  },
  {
   "cell_type": "code",
   "execution_count": 4,
   "metadata": {},
   "outputs": [
    {
     "data": {
      "image/png": "[encoded data removed]",
      "text/plain": [
       "<Figure size 432x288 with 1 Axes>"
      ]
     },
     "metadata": {
      "needs_background": "light"
     },
     "output_type": "display_data"
    }
   ],
   "source": [
    "#Изобразим точки (x_i, y_i) на плоскости:\n",
    "plt.scatter(x,y);"
   ]
  },
  {
   "cell_type": "markdown",
   "metadata": {},
   "source": [
    "Наблюдаем что-то похожее на линейную зависимость"
   ]
  },
  {
   "cell_type": "code",
   "execution_count": 5,
   "metadata": {},
   "outputs": [
    {
     "data": {
      "text/plain": [
       "ShapiroResult(statistic=0.9915743470191956, pvalue=0.7896034121513367)"
      ]
     },
     "execution_count": 5,
     "metadata": {},
     "output_type": "execute_result"
    }
   ],
   "source": [
    "#Проверим данные x и y на нормальность (помним, что для использования коэффициента корреляции Пирсона \n",
    "#нормальное распределение данных является желательным условием):\n",
    "st.shapiro(x)"
   ]
  },
  {
   "cell_type": "code",
   "execution_count": 6,
   "metadata": {},
   "outputs": [
    {
     "data": {
      "text/plain": [
       "ShapiroResult(statistic=0.9872850179672241, pvalue=0.45707398653030396)"
      ]
     },
     "execution_count": 6,
     "metadata": {},
     "output_type": "execute_result"
    }
   ],
   "source": [
    "st.shapiro(y)"
   ]
  },
  {
   "cell_type": "markdown",
   "metadata": {},
   "source": [
    "Тест Шапиро-Уилка нормальность данных не отвергает"
   ]
  },
  {
   "cell_type": "code",
   "execution_count": 7,
   "metadata": {},
   "outputs": [
    {
     "data": {
      "text/plain": [
       "(0.9512612478332824, 7.207182640593525e-52)"
      ]
     },
     "execution_count": 7,
     "metadata": {},
     "output_type": "execute_result"
    }
   ],
   "source": [
    "#Коэффициент корреляции Пирсона\n",
    "pearsonr(x, y)\n",
    "#В качестве результата имеем значение выборочного коэффициента корреляции и p-value (Гипотеза состоит в том, \n",
    "#что признаки независимы (некоррелируемы))"
   ]
  },
  {
   "cell_type": "markdown",
   "metadata": {},
   "source": [
    "Коэффициент корреляции близок к 1, p-value очень маленькое, есть линейная зависимость (помним, что \n",
    "коэффициент корреляции Пирсона хорошо \"ловит\" именно линейную зависимость)"
   ]
  },
  {
   "cell_type": "code",
   "execution_count": null,
   "metadata": {
    "scrolled": true
   },
   "outputs": [],
   "source": [
    "#Если хотим получить только коэффициент корреляции, то пишем так:\n",
    "pearsonr(x, y)[0]"
   ]
  },
  {
   "cell_type": "code",
   "execution_count": null,
   "metadata": {},
   "outputs": [],
   "source": [
    "#Если хотим получить только p-value, то пишем так:\n",
    "pearsonr(x, y)[1]"
   ]
  },
  {
   "cell_type": "code",
   "execution_count": 8,
   "metadata": {},
   "outputs": [
    {
     "data": {
      "text/plain": [
       "0.9512612478332824"
      ]
     },
     "execution_count": 8,
     "metadata": {},
     "output_type": "execute_result"
    }
   ],
   "source": [
    "#Можно посчитать вручную значение коэффициента корреляции Пирсона:\n",
    "r = (np.mean(x*y) - np.mean(x)*np.mean(y))/(np.std(x) * np.std(y))\n",
    "r"
   ]
  },
  {
   "cell_type": "code",
   "execution_count": 9,
   "metadata": {},
   "outputs": [
    {
     "data": {
      "text/plain": [
       "0.0"
      ]
     },
     "execution_count": 9,
     "metadata": {},
     "output_type": "execute_result"
    }
   ],
   "source": [
    "#Можно посчитать вручную и p-value:\n",
    "from scipy.stats import t\n",
    "n=len(x)\n",
    "t_stat = (r * np.sqrt(n-2)) / np.sqrt(1 - r**2)\n",
    "p_value = 2*np.min([t.cdf(t_stat, n-2), 1 - t.cdf(t_stat, n-2)])\n",
    "p_value"
   ]
  },
  {
   "cell_type": "code",
   "execution_count": 10,
   "metadata": {},
   "outputs": [
    {
     "data": {
      "text/plain": [
       "SpearmanrResult(correlation=0.9365976597659765, pvalue=2.0005532643898256e-46)"
      ]
     },
     "execution_count": 10,
     "metadata": {},
     "output_type": "execute_result"
    }
   ],
   "source": [
    "#Коэффициент корреляции Спирмена\n",
    "spearmanr(x, y)\n",
    "#В качестве результата снова имеем значение коэффициента корреляции и p-value (Гипотеза состоит в том, \n",
    "#что признаки независимы)"
   ]
  },
  {
   "cell_type": "markdown",
   "metadata": {},
   "source": [
    "Коэффициент корреляции близок к 1, p-value очень маленькое, есть зависимость (помним, что \n",
    "коэффициент корреляции Спирмена хорошо \"ловит\" монотонные зависимости)"
   ]
  },
  {
   "cell_type": "code",
   "execution_count": 11,
   "metadata": {
    "scrolled": true
   },
   "outputs": [
    {
     "data": {
      "text/plain": [
       "0.9365976597659765"
      ]
     },
     "execution_count": 11,
     "metadata": {},
     "output_type": "execute_result"
    }
   ],
   "source": [
    "#Если хотим получить только коэффициент корреляции, то пишем так:\n",
    "spearmanr(x, y).correlation"
   ]
  },
  {
   "cell_type": "code",
   "execution_count": 12,
   "metadata": {},
   "outputs": [
    {
     "data": {
      "text/plain": [
       "0.9365976597659765"
      ]
     },
     "execution_count": 12,
     "metadata": {},
     "output_type": "execute_result"
    }
   ],
   "source": [
    "#или\n",
    "spearmanr(x, y)[0]"
   ]
  },
  {
   "cell_type": "code",
   "execution_count": 13,
   "metadata": {},
   "outputs": [
    {
     "data": {
      "text/plain": [
       "2.0005532643898256e-46"
      ]
     },
     "execution_count": 13,
     "metadata": {},
     "output_type": "execute_result"
    }
   ],
   "source": [
    "#Если хотим получить только p-value, то пишем так:\n",
    "spearmanr(x, y).pvalue"
   ]
  },
  {
   "cell_type": "code",
   "execution_count": 14,
   "metadata": {},
   "outputs": [
    {
     "data": {
      "text/plain": [
       "2.0005532643898256e-46"
      ]
     },
     "execution_count": 14,
     "metadata": {},
     "output_type": "execute_result"
    }
   ],
   "source": [
    "#или\n",
    "spearmanr(x, y)[1]"
   ]
  },
  {
   "cell_type": "code",
   "execution_count": 15,
   "metadata": {},
   "outputs": [
    {
     "data": {
      "text/plain": [
       "KendalltauResult(correlation=0.7927272727272728, pvalue=1.5006980934612898e-31)"
      ]
     },
     "execution_count": 15,
     "metadata": {},
     "output_type": "execute_result"
    }
   ],
   "source": [
    "#Коэффициент корреляции Кендалла\n",
    "kendalltau(x, y)\n",
    "#В качестве результата снова имеем значение коэффициента корреляции и p-value (Гипотеза состоит в том, \n",
    "#что признаки независимы)"
   ]
  },
  {
   "cell_type": "markdown",
   "metadata": {},
   "source": [
    "Коэффициент корреляции близок к 1, p-value очень маленькое, есть зависимость (помним, что \n",
    "коэффициент корреляции Кендалла хорошо \"ловит\" монотонные зависимости)"
   ]
  },
  {
   "cell_type": "code",
   "execution_count": 16,
   "metadata": {},
   "outputs": [
    {
     "data": {
      "text/plain": [
       "0.7927272727272728"
      ]
     },
     "execution_count": 16,
     "metadata": {},
     "output_type": "execute_result"
    }
   ],
   "source": [
    "#Если хотим получить только коэффициент корреляции, то пишем так:\n",
    "kendalltau(x, y).correlation"
   ]
  },
  {
   "cell_type": "code",
   "execution_count": 17,
   "metadata": {},
   "outputs": [
    {
     "data": {
      "text/plain": [
       "0.7927272727272728"
      ]
     },
     "execution_count": 17,
     "metadata": {},
     "output_type": "execute_result"
    }
   ],
   "source": [
    "#или\n",
    "kendalltau(x, y)[0]"
   ]
  },
  {
   "cell_type": "code",
   "execution_count": 18,
   "metadata": {},
   "outputs": [
    {
     "data": {
      "text/plain": [
       "1.5006980934612898e-31"
      ]
     },
     "execution_count": 18,
     "metadata": {},
     "output_type": "execute_result"
    }
   ],
   "source": [
    "#Если хотим получить только p-value, то пишем так:\n",
    "kendalltau(x, y).pvalue"
   ]
  },
  {
   "cell_type": "code",
   "execution_count": 19,
   "metadata": {},
   "outputs": [
    {
     "data": {
      "text/plain": [
       "1.5006980934612898e-31"
      ]
     },
     "execution_count": 19,
     "metadata": {},
     "output_type": "execute_result"
    }
   ],
   "source": [
    "#или\n",
    "kendalltau(x, y)[1]"
   ]
  },
  {
   "cell_type": "markdown",
   "metadata": {},
   "source": [
    "#### Пример 2."
   ]
  },
  {
   "cell_type": "code",
   "execution_count": 20,
   "metadata": {},
   "outputs": [],
   "source": [
    "example = pd.read_csv(\"Example2.txt\")\n",
    "x = example['x']\n",
    "y = example['y']"
   ]
  },
  {
   "cell_type": "code",
   "execution_count": 21,
   "metadata": {},
   "outputs": [
    {
     "data": {
      "image/png": "[encoded data removed]",
      "text/plain": [
       "<Figure size 432x288 with 1 Axes>"
      ]
     },
     "metadata": {
      "needs_background": "light"
     },
     "output_type": "display_data"
    }
   ],
   "source": [
    "plt.scatter(x,y);"
   ]
  },
  {
   "cell_type": "code",
   "execution_count": 23,
   "metadata": {},
   "outputs": [
    {
     "data": {
      "text/plain": [
       "ShapiroResult(statistic=0.9660989046096802, pvalue=0.011206465773284435)"
      ]
     },
     "execution_count": 23,
     "metadata": {},
     "output_type": "execute_result"
    }
   ],
   "source": [
    "st.shapiro(x)"
   ]
  },
  {
   "cell_type": "code",
   "execution_count": 22,
   "metadata": {
    "scrolled": true
   },
   "outputs": [
    {
     "data": {
      "text/plain": [
       "ShapiroResult(statistic=0.9621120691299438, pvalue=0.005703975446522236)"
      ]
     },
     "execution_count": 22,
     "metadata": {},
     "output_type": "execute_result"
    }
   ],
   "source": [
    "st.shapiro(y)"
   ]
  },
  {
   "cell_type": "markdown",
   "metadata": {},
   "source": [
    "На уровне значимости 5% тест Шапиро-Уилка отвергает предположение о нормальности x и y"
   ]
  },
  {
   "cell_type": "code",
   "execution_count": 24,
   "metadata": {},
   "outputs": [
    {
     "data": {
      "text/plain": [
       "(0.9724808340536131, 8.2194748957584e-64)"
      ]
     },
     "execution_count": 24,
     "metadata": {},
     "output_type": "execute_result"
    }
   ],
   "source": [
    "#Коэффициент корреляции Пирсона\n",
    "pearsonr(x, y)"
   ]
  },
  {
   "cell_type": "markdown",
   "metadata": {},
   "source": [
    "Коэффициент корреляции близок к 1, наблюдается линейная зависимость.\n",
    "\n",
    "Коэффициент корреляции Пирсона хорошо в этом примере \"увидел\" линейную зависимость, но в целом, если распределение выборок не является близким к нормальному, то лучше пользоваться ранговыми коэффициентами корреляции (Спирмена и Кендалла)"
   ]
  },
  {
   "cell_type": "code",
   "execution_count": 25,
   "metadata": {},
   "outputs": [
    {
     "data": {
      "text/plain": [
       "SpearmanrResult(correlation=0.9652205220522052, pvalue=6.6413700513890945e-59)"
      ]
     },
     "execution_count": 25,
     "metadata": {},
     "output_type": "execute_result"
    }
   ],
   "source": [
    "#Коэффициент корреляции Спирмена\n",
    "spearmanr(x, y)"
   ]
  },
  {
   "cell_type": "code",
   "execution_count": 26,
   "metadata": {},
   "outputs": [
    {
     "data": {
      "text/plain": [
       "KendalltauResult(correlation=0.8375757575757578, pvalue=5.039118950891044e-35)"
      ]
     },
     "execution_count": 26,
     "metadata": {},
     "output_type": "execute_result"
    }
   ],
   "source": [
    "#Коэффициент корреляции Кендалла\n",
    "kendalltau(x, y)"
   ]
  },
  {
   "cell_type": "markdown",
   "metadata": {},
   "source": [
    "Вывод: гипотеза о независимости признаков x и y отвергается"
   ]
  },
  {
   "cell_type": "markdown",
   "metadata": {},
   "source": [
    "#### Пример 3."
   ]
  },
  {
   "cell_type": "code",
   "execution_count": 27,
   "metadata": {},
   "outputs": [],
   "source": [
    "example = pd.read_csv(\"Example3.txt\")\n",
    "x = example['x']\n",
    "y = example['y']"
   ]
  },
  {
   "cell_type": "code",
   "execution_count": 28,
   "metadata": {},
   "outputs": [
    {
     "data": {
      "image/png": "[encoded data removed]",
      "text/plain": [
       "<Figure size 432x288 with 1 Axes>"
      ]
     },
     "metadata": {
      "needs_background": "light"
     },
     "output_type": "display_data"
    }
   ],
   "source": [
    "plt.scatter(x,y);"
   ]
  },
  {
   "cell_type": "code",
   "execution_count": 29,
   "metadata": {},
   "outputs": [
    {
     "data": {
      "text/plain": [
       "ShapiroResult(statistic=0.892939567565918, pvalue=1.0639158011613997e-13)"
      ]
     },
     "execution_count": 29,
     "metadata": {},
     "output_type": "execute_result"
    }
   ],
   "source": [
    "st.shapiro(x)"
   ]
  },
  {
   "cell_type": "code",
   "execution_count": 30,
   "metadata": {
    "scrolled": true
   },
   "outputs": [
    {
     "data": {
      "text/plain": [
       "ShapiroResult(statistic=0.3658123016357422, pvalue=5.458846712535019e-31)"
      ]
     },
     "execution_count": 30,
     "metadata": {},
     "output_type": "execute_result"
    }
   ],
   "source": [
    "st.shapiro(y)"
   ]
  },
  {
   "cell_type": "markdown",
   "metadata": {},
   "source": [
    "На уровне значимости 5% тест Шапиро-Уилка отвергает предположение о нормальности x и y.\n",
    "При этом, судя по картинке, зависимость не линейная."
   ]
  },
  {
   "cell_type": "code",
   "execution_count": 31,
   "metadata": {},
   "outputs": [
    {
     "data": {
      "text/plain": [
       "(0.7234426222984888, 7.126634876225565e-50)"
      ]
     },
     "execution_count": 31,
     "metadata": {},
     "output_type": "execute_result"
    }
   ],
   "source": [
    "#Коэффициент корреляции Пирсона\n",
    "pearsonr(x, y)"
   ]
  },
  {
   "cell_type": "markdown",
   "metadata": {},
   "source": [
    "Коэффициент корреляции Пирсона уже не так близок к 1, как в предыдущих примерах (сейчас 0.72, а в примерах 1 и 2 было 0.95 и 0.97). Судя по графику, зависимость не линейная, выборки не нормальные, поэтому лучше ориентироваться на ранговые коэффициенты корреляции."
   ]
  },
  {
   "cell_type": "code",
   "execution_count": 32,
   "metadata": {},
   "outputs": [
    {
     "data": {
      "text/plain": [
       "SpearmanrResult(correlation=0.955071945243836, pvalue=1.9618496634822895e-159)"
      ]
     },
     "execution_count": 32,
     "metadata": {},
     "output_type": "execute_result"
    }
   ],
   "source": [
    "#Коэффициент корреляции Спирмена\n",
    "spearmanr(x, y)"
   ]
  },
  {
   "cell_type": "code",
   "execution_count": 33,
   "metadata": {},
   "outputs": [
    {
     "data": {
      "text/plain": [
       "KendalltauResult(correlation=0.8201560758082497, pvalue=1.3230473854801313e-99)"
      ]
     },
     "execution_count": 33,
     "metadata": {},
     "output_type": "execute_result"
    }
   ],
   "source": [
    "#Коэффициент корреляции Кендалла\n",
    "kendalltau(x, y)"
   ]
  },
  {
   "cell_type": "markdown",
   "metadata": {},
   "source": [
    "Вывод: гипотеза о независимости признаков x и y отвергается"
   ]
  },
  {
   "cell_type": "markdown",
   "metadata": {},
   "source": [
    "#### Пример 4 (неустойчивость коэффициента корреляции Пирсона к выбросам)."
   ]
  },
  {
   "cell_type": "code",
   "execution_count": 34,
   "metadata": {},
   "outputs": [],
   "source": [
    "#Сами создадим выборки для иллюстративного примера\n",
    "x = np.linspace(0,1, 100)\n",
    "y = x*2+3"
   ]
  },
  {
   "cell_type": "code",
   "execution_count": 35,
   "metadata": {},
   "outputs": [
    {
     "name": "stdout",
     "output_type": "stream",
     "text": [
      "pearsonr: 1.0\n",
      "spearmanr: 0.9999999999999999\n",
      "kendalltau: 1.0\n"
     ]
    }
   ],
   "source": [
    "#Идеальная линейная зависимость, все коэффициенты корреляции близки к 1\n",
    "print (\"pearsonr:\", pearsonr(x, y)[0])\n",
    "print (\"spearmanr:\", spearmanr(x, y).correlation)\n",
    "print (\"kendalltau:\", kendalltau(x, y).correlation)"
   ]
  },
  {
   "cell_type": "code",
   "execution_count": 36,
   "metadata": {},
   "outputs": [],
   "source": [
    "x = np.append(x, 10) #добавляем выброс"
   ]
  },
  {
   "cell_type": "code",
   "execution_count": 37,
   "metadata": {},
   "outputs": [],
   "source": [
    "y = np.append(y, 5) #добавляем выброс"
   ]
  },
  {
   "cell_type": "code",
   "execution_count": 38,
   "metadata": {},
   "outputs": [
    {
     "data": {
      "image/png": "[encoded data removed]",
      "text/plain": [
       "<Figure size 432x288 with 1 Axes>"
      ]
     },
     "metadata": {
      "needs_background": "light"
     },
     "output_type": "display_data"
    }
   ],
   "source": [
    "plt.scatter(x,y);"
   ]
  },
  {
   "cell_type": "code",
   "execution_count": 39,
   "metadata": {},
   "outputs": [
    {
     "name": "stdout",
     "output_type": "stream",
     "text": [
      "pearsonr: 0.45127805006226285\n",
      "spearmanr: 0.9999970879398483\n",
      "kendalltau: 0.9999009851970445\n"
     ]
    }
   ],
   "source": [
    "print (\"pearsonr:\", pearsonr(x, y)[0])\n",
    "print (\"spearmanr:\", spearmanr(x, y).correlation)\n",
    "print (\"kendalltau:\", kendalltau(x, y).correlation)"
   ]
  },
  {
   "cell_type": "markdown",
   "metadata": {},
   "source": [
    "Коэффициент корреляции Пирсона перестал быть близким к 1 (в отличие от ранговых коэффициентов корреляции Спирмена и Кендалла)"
   ]
  },
  {
   "cell_type": "markdown",
   "metadata": {},
   "source": [
    "#### Пример 5."
   ]
  },
  {
   "cell_type": "code",
   "execution_count": 40,
   "metadata": {},
   "outputs": [
    {
     "data": {
      "image/png": "[encoded data removed]",
      "text/plain": [
       "<Figure size 432x288 with 1 Axes>"
      ]
     },
     "metadata": {
      "needs_background": "light"
     },
     "output_type": "display_data"
    }
   ],
   "source": [
    "#Сами создадим выборки для иллюстративного примера\n",
    "x = st.norm.rvs(size=1000, loc = 0, scale = 3)\n",
    "y = np.sin(x)\n",
    "plt.scatter(x,y);"
   ]
  },
  {
   "cell_type": "code",
   "execution_count": 41,
   "metadata": {},
   "outputs": [
    {
     "name": "stdout",
     "output_type": "stream",
     "text": [
      "pearsonr: 0.03792676398997584\n",
      "spearmanr: 0.12785903585903588\n",
      "kendalltau: 0.10808808808808809\n"
     ]
    }
   ],
   "source": [
    "print (\"pearsonr:\", pearsonr(x, y)[0])\n",
    "print (\"spearmanr:\", spearmanr(x, y).correlation)\n",
    "print (\"kendalltau:\", kendalltau(x, y).correlation)"
   ]
  },
  {
   "cell_type": "markdown",
   "metadata": {},
   "source": [
    "Вывод: все три коэффициента корреляции не \"ловят\" немонотонные зависимости."
   ]
  },
  {
   "cell_type": "markdown",
   "metadata": {},
   "source": [
    "###  Частная корреляция"
   ]
  },
  {
   "cell_type": "code",
   "execution_count": 42,
   "metadata": {},
   "outputs": [],
   "source": [
    "#Сами создадим выборки для иллюстративного примера\n",
    "z = st.norm.rvs(size=1000, loc=0, scale=4) \n",
    "x = z + st.norm.rvs(size=1000, loc=3, scale=1)\n",
    "y = z + st.norm.rvs(size=1000, loc=-2, scale=1)\n",
    "#Видим: зависимость признаков x и y основывается только на зависимости их обоих от z"
   ]
  },
  {
   "cell_type": "code",
   "execution_count": 43,
   "metadata": {},
   "outputs": [
    {
     "data": {
      "image/png": "[encoded data removed]",
      "text/plain": [
       "<Figure size 432x288 with 1 Axes>"
      ]
     },
     "metadata": {
      "needs_background": "light"
     },
     "output_type": "display_data"
    }
   ],
   "source": [
    "plt.scatter(x,y);"
   ]
  },
  {
   "cell_type": "code",
   "execution_count": 44,
   "metadata": {},
   "outputs": [
    {
     "data": {
      "text/plain": [
       "ShapiroResult(statistic=0.9980185031890869, pvalue=0.29045701026916504)"
      ]
     },
     "execution_count": 44,
     "metadata": {},
     "output_type": "execute_result"
    }
   ],
   "source": [
    "st.shapiro(x)"
   ]
  },
  {
   "cell_type": "code",
   "execution_count": 45,
   "metadata": {},
   "outputs": [
    {
     "data": {
      "text/plain": [
       "ShapiroResult(statistic=0.9980741143226624, pvalue=0.3150695562362671)"
      ]
     },
     "execution_count": 45,
     "metadata": {},
     "output_type": "execute_result"
    }
   ],
   "source": [
    "st.shapiro(y)"
   ]
  },
  {
   "cell_type": "code",
   "execution_count": 46,
   "metadata": {},
   "outputs": [
    {
     "data": {
      "text/plain": [
       "(0.9383391275454763, 0.0)"
      ]
     },
     "execution_count": 46,
     "metadata": {},
     "output_type": "execute_result"
    }
   ],
   "source": [
    "pearsonr(x, y)"
   ]
  },
  {
   "cell_type": "code",
   "execution_count": 47,
   "metadata": {},
   "outputs": [
    {
     "data": {
      "text/plain": [
       "SpearmanrResult(correlation=0.9273875913875915, pvalue=0.0)"
      ]
     },
     "execution_count": 47,
     "metadata": {},
     "output_type": "execute_result"
    }
   ],
   "source": [
    "spearmanr(x, y)"
   ]
  },
  {
   "cell_type": "code",
   "execution_count": 48,
   "metadata": {},
   "outputs": [
    {
     "data": {
      "text/plain": [
       "KendalltauResult(correlation=0.76994994994995, pvalue=5.1150317498677574e-291)"
      ]
     },
     "execution_count": 48,
     "metadata": {},
     "output_type": "execute_result"
    }
   ],
   "source": [
    "kendalltau(x, y)"
   ]
  },
  {
   "cell_type": "markdown",
   "metadata": {},
   "source": [
    "Все признаки корреляции подтверждают наличие зависимости между x и y"
   ]
  },
  {
   "cell_type": "markdown",
   "metadata": {},
   "source": [
    "Хотим теперь оценить величину зависимости x и y без учета влияния z c помощью частной корреляции."
   ]
  },
  {
   "cell_type": "code",
   "execution_count": 49,
   "metadata": {},
   "outputs": [],
   "source": [
    "#Создаем функцию, считающую частную корреляцию:\n",
    "def partial_corr(x, y, z, method='pearson'):\n",
    "    if method == 'pearson':\n",
    "        r_xy, r_xz, r_yz = pearsonr(x, y)[0], pearsonr(x, z)[0], pearsonr(y, z)[0]\n",
    "    elif method == 'kendall':\n",
    "        r_xy, r_xz, r_yz = kendalltau(x, y).correlation, kendalltau(x, z).correlation, kendalltau(y, z).correlation\n",
    "    else:\n",
    "        return None\n",
    "    \n",
    "    return (r_xy - r_xz * r_yz) / np.sqrt((1 - r_xz ** 2) * (1 - r_yz ** 2))"
   ]
  },
  {
   "cell_type": "code",
   "execution_count": 50,
   "metadata": {
    "scrolled": true
   },
   "outputs": [
    {
     "name": "stdout",
     "output_type": "stream",
     "text": [
      "pearson partial correlation: 0.0027906479442822685\n"
     ]
    }
   ],
   "source": [
    "print (\"pearson partial correlation:\", partial_corr(x, y, z, method='pearson'))"
   ]
  },
  {
   "cell_type": "markdown",
   "metadata": {},
   "source": [
    "Частный коэффициент корреляции x и y без учета влияния z оказался близким к 0."
   ]
  },
  {
   "cell_type": "markdown",
   "metadata": {},
   "source": [
    "### Таблицы сопряженности"
   ]
  },
  {
   "cell_type": "markdown",
   "metadata": {},
   "source": [
    "Задача \n",
    "\n",
    "Программные продукты оцениваются по шкале от 1 до 4 по качеству, и кроме того, имеется два способа написания программных продуктов: быстрый и медленный. Известно, что среди быстро написанных программных продуктов оценку 1 имеют 120 продуктов, оценку 2 – 124 продукта, 3 — 133 продукта, 4 – 106 продуктов. Среди медленно написанных продуктов оценку 1 имеют 97, 2 – 142, 3 – 129 и 4 – 149 продуктов. Выяснить, имеется ли статистически значимая связь между скоростью написания программных продуктов и их качеством (на уровне значимости 1% и на уровне значимости 3%)."
   ]
  },
  {
   "cell_type": "code",
   "execution_count": 12,
   "metadata": {},
   "outputs": [],
   "source": [
    "#Создаем таблицу сопряженности:\n",
    "table = np.array([[120, 124, 133, 106],\n",
    "[97, 142, 129, 149]])\n",
    "#Хотим изучить вопрос о независимости признаков \"тип написания продукта\" и \"скорость написания продукта\" "
   ]
  },
  {
   "cell_type": "code",
   "execution_count": 13,
   "metadata": {},
   "outputs": [
    {
     "data": {
      "text/plain": [
       "(9.823237888661364,\n",
       " 0.02013001111621603,\n",
       " 3,\n",
       " array([[104.811, 128.478, 126.546, 123.165],\n",
       "        [112.189, 137.522, 135.454, 131.835]]))"
      ]
     },
     "execution_count": 13,
     "metadata": {},
     "output_type": "execute_result"
    }
   ],
   "source": [
    "#Применяем критерий:\n",
    "st.chi2_contingency(table)\n",
    "#В качестве первых двух результатов получаем значение статистики критерия и p-value"
   ]
  },
  {
   "cell_type": "code",
   "execution_count": 14,
   "metadata": {},
   "outputs": [
    {
     "data": {
      "text/plain": [
       "0.02013001111621603"
      ]
     },
     "execution_count": 14,
     "metadata": {},
     "output_type": "execute_result"
    }
   ],
   "source": [
    "#Если хотим только p-value, то пишем так:\n",
    "st.chi2_contingency(table)[1]"
   ]
  },
  {
   "cell_type": "markdown",
   "metadata": {},
   "source": [
    "Гипотеза состоит в том, что признаки независимы. Итого на уровне значимости 1% гипотеза о независимости признаков не отвергается, а на уровне значимости 3% гипотеза о независимости признаков отвергается."
   ]
  },
  {
   "cell_type": "markdown",
   "metadata": {},
   "source": [
    "### Проверка независимости двух признаков с помощью таблиц сопряженности"
   ]
  },
  {
   "cell_type": "code",
   "execution_count": 15,
   "metadata": {},
   "outputs": [],
   "source": [
    "Star = pd.read_csv(\"Star.csv\")\n",
    "x = Star['x']\n",
    "y = Star['y']"
   ]
  },
  {
   "cell_type": "code",
   "execution_count": 16,
   "metadata": {
    "scrolled": true
   },
   "outputs": [
    {
     "data": {
      "image/png": "[encoded data removed]",
      "text/plain": [
       "<Figure size 432x288 with 1 Axes>"
      ]
     },
     "metadata": {
      "needs_background": "light"
     },
     "output_type": "display_data"
    }
   ],
   "source": [
    "plt.scatter(x, y);"
   ]
  },
  {
   "cell_type": "markdown",
   "metadata": {},
   "source": [
    "Судя по изображению, некоторая зависимость x и y есть. Найдем все три коэффицента корреляции."
   ]
  },
  {
   "cell_type": "code",
   "execution_count": 17,
   "metadata": {},
   "outputs": [
    {
     "data": {
      "text/plain": [
       "(-0.025961027346907174, 0.7151826143471101)"
      ]
     },
     "execution_count": 17,
     "metadata": {},
     "output_type": "execute_result"
    }
   ],
   "source": [
    "pearsonr(x, y)"
   ]
  },
  {
   "cell_type": "code",
   "execution_count": 18,
   "metadata": {},
   "outputs": [
    {
     "data": {
      "text/plain": [
       "SpearmanrResult(correlation=-0.04081752043801095, pvalue=0.5660571738070647)"
      ]
     },
     "execution_count": 18,
     "metadata": {},
     "output_type": "execute_result"
    }
   ],
   "source": [
    "spearmanr(x, y)"
   ]
  },
  {
   "cell_type": "code",
   "execution_count": 19,
   "metadata": {},
   "outputs": [
    {
     "data": {
      "text/plain": [
       "KendalltauResult(correlation=-0.019597989949748745, pvalue=0.6802458220697412)"
      ]
     },
     "execution_count": 19,
     "metadata": {},
     "output_type": "execute_result"
    }
   ],
   "source": [
    "kendalltau(x, y)"
   ]
  },
  {
   "cell_type": "markdown",
   "metadata": {},
   "source": [
    "Согласно значениям всех трех коэффициентов корреляции, зависимость отсутствует.\n",
    "\n",
    "Попробуем теперь проверить гипотезу о независимости с помощью таблиц сопряженности.\n",
    "\n",
    "Разбиваем ось ox на промежутки точками -np.inf, -0.5, 0.5, np.inf\n",
    "\n",
    "Разбиваем ось oy на промежутки точками -np.inf, -0.5, 0.5, np.inf"
   ]
  },
  {
   "cell_type": "code",
   "execution_count": 20,
   "metadata": {},
   "outputs": [],
   "source": [
    "#Добавляем в Star новый столбец 'x_bin', в котором для каждого значения из столбца 'х' указано, \n",
    "#в каком промежутке оно содержится:\n",
    "Star['x_bin'] = pd.cut(x, [-np.inf, -0.5, 0.5, np.inf])\n",
    "#Добавляем в Star новый столбец 'y_bin', в котором для каждого значения из столбца 'y' указано, \n",
    "#в каком промежутке оно содержится:\n",
    "Star['y_bin'] = pd.cut(y, [-np.inf, -0.5, 0.5, np.inf])"
   ]
  },
  {
   "cell_type": "code",
   "execution_count": 21,
   "metadata": {},
   "outputs": [
    {
     "data": {
      "text/html": [
       "<div>\n",
       "<style scoped>\n",
       "    .dataframe tbody tr th:only-of-type {\n",
       "        vertical-align: middle;\n",
       "    }\n",
       "\n",
       "    .dataframe tbody tr th {\n",
       "        vertical-align: top;\n",
       "    }\n",
       "\n",
       "    .dataframe thead th {\n",
       "        text-align: right;\n",
       "    }\n",
       "</style>\n",
       "<table border=\"1\" class=\"dataframe\">\n",
       "  <thead>\n",
       "    <tr style=\"text-align: right;\">\n",
       "      <th></th>\n",
       "      <th>x</th>\n",
       "      <th>y</th>\n",
       "      <th>x_bin</th>\n",
       "      <th>y_bin</th>\n",
       "    </tr>\n",
       "  </thead>\n",
       "  <tbody>\n",
       "    <tr>\n",
       "      <td>0</td>\n",
       "      <td>-0.970972</td>\n",
       "      <td>0.050214</td>\n",
       "      <td>(-inf, -0.5]</td>\n",
       "      <td>(-0.5, 0.5]</td>\n",
       "    </tr>\n",
       "    <tr>\n",
       "      <td>1</td>\n",
       "      <td>-0.696865</td>\n",
       "      <td>0.752624</td>\n",
       "      <td>(-inf, -0.5]</td>\n",
       "      <td>(0.5, inf]</td>\n",
       "    </tr>\n",
       "    <tr>\n",
       "      <td>2</td>\n",
       "      <td>1.218057</td>\n",
       "      <td>0.539155</td>\n",
       "      <td>(0.5, inf]</td>\n",
       "      <td>(0.5, inf]</td>\n",
       "    </tr>\n",
       "    <tr>\n",
       "      <td>3</td>\n",
       "      <td>1.509003</td>\n",
       "      <td>0.314469</td>\n",
       "      <td>(0.5, inf]</td>\n",
       "      <td>(-0.5, 0.5]</td>\n",
       "    </tr>\n",
       "    <tr>\n",
       "      <td>4</td>\n",
       "      <td>0.494606</td>\n",
       "      <td>-0.588871</td>\n",
       "      <td>(-0.5, 0.5]</td>\n",
       "      <td>(-inf, -0.5]</td>\n",
       "    </tr>\n",
       "    <tr>\n",
       "      <td>...</td>\n",
       "      <td>...</td>\n",
       "      <td>...</td>\n",
       "      <td>...</td>\n",
       "      <td>...</td>\n",
       "    </tr>\n",
       "    <tr>\n",
       "      <td>195</td>\n",
       "      <td>1.777160</td>\n",
       "      <td>0.054557</td>\n",
       "      <td>(0.5, inf]</td>\n",
       "      <td>(-0.5, 0.5]</td>\n",
       "    </tr>\n",
       "    <tr>\n",
       "      <td>196</td>\n",
       "      <td>-0.324787</td>\n",
       "      <td>-0.993537</td>\n",
       "      <td>(-0.5, 0.5]</td>\n",
       "      <td>(-inf, -0.5]</td>\n",
       "    </tr>\n",
       "    <tr>\n",
       "      <td>197</td>\n",
       "      <td>0.078561</td>\n",
       "      <td>2.443968</td>\n",
       "      <td>(-0.5, 0.5]</td>\n",
       "      <td>(0.5, inf]</td>\n",
       "    </tr>\n",
       "    <tr>\n",
       "      <td>198</td>\n",
       "      <td>1.033270</td>\n",
       "      <td>-0.574604</td>\n",
       "      <td>(0.5, inf]</td>\n",
       "      <td>(-inf, -0.5]</td>\n",
       "    </tr>\n",
       "    <tr>\n",
       "      <td>199</td>\n",
       "      <td>0.870925</td>\n",
       "      <td>-0.702743</td>\n",
       "      <td>(0.5, inf]</td>\n",
       "      <td>(-inf, -0.5]</td>\n",
       "    </tr>\n",
       "  </tbody>\n",
       "</table>\n",
       "<p>200 rows × 4 columns</p>\n",
       "</div>"
      ],
      "text/plain": [
       "            x         y         x_bin         y_bin\n",
       "0   -0.970972  0.050214  (-inf, -0.5]   (-0.5, 0.5]\n",
       "1   -0.696865  0.752624  (-inf, -0.5]    (0.5, inf]\n",
       "2    1.218057  0.539155    (0.5, inf]    (0.5, inf]\n",
       "3    1.509003  0.314469    (0.5, inf]   (-0.5, 0.5]\n",
       "4    0.494606 -0.588871   (-0.5, 0.5]  (-inf, -0.5]\n",
       "..        ...       ...           ...           ...\n",
       "195  1.777160  0.054557    (0.5, inf]   (-0.5, 0.5]\n",
       "196 -0.324787 -0.993537   (-0.5, 0.5]  (-inf, -0.5]\n",
       "197  0.078561  2.443968   (-0.5, 0.5]    (0.5, inf]\n",
       "198  1.033270 -0.574604    (0.5, inf]  (-inf, -0.5]\n",
       "199  0.870925 -0.702743    (0.5, inf]  (-inf, -0.5]\n",
       "\n",
       "[200 rows x 4 columns]"
      ]
     },
     "execution_count": 21,
     "metadata": {},
     "output_type": "execute_result"
    }
   ],
   "source": [
    "Star"
   ]
  },
  {
   "cell_type": "code",
   "execution_count": 22,
   "metadata": {},
   "outputs": [],
   "source": [
    "#Создаем сводную таблицу:\n",
    "table2 = Star.pivot_table(values='x', index='x_bin', columns='y_bin', aggfunc='count', fill_value=0)\n",
    "#fill_value=0: ставим 0, если в какой-то промежуток не попало ни одного значения"
   ]
  },
  {
   "cell_type": "code",
   "execution_count": 23,
   "metadata": {},
   "outputs": [
    {
     "data": {
      "text/html": [
       "<div>\n",
       "<style scoped>\n",
       "    .dataframe tbody tr th:only-of-type {\n",
       "        vertical-align: middle;\n",
       "    }\n",
       "\n",
       "    .dataframe tbody tr th {\n",
       "        vertical-align: top;\n",
       "    }\n",
       "\n",
       "    .dataframe thead th {\n",
       "        text-align: right;\n",
       "    }\n",
       "</style>\n",
       "<table border=\"1\" class=\"dataframe\">\n",
       "  <thead>\n",
       "    <tr style=\"text-align: right;\">\n",
       "      <th>y_bin</th>\n",
       "      <th>(-inf, -0.5]</th>\n",
       "      <th>(-0.5, 0.5]</th>\n",
       "      <th>(0.5, inf]</th>\n",
       "    </tr>\n",
       "    <tr>\n",
       "      <th>x_bin</th>\n",
       "      <th></th>\n",
       "      <th></th>\n",
       "      <th></th>\n",
       "    </tr>\n",
       "  </thead>\n",
       "  <tbody>\n",
       "    <tr>\n",
       "      <td>(-inf, -0.5]</td>\n",
       "      <td>6</td>\n",
       "      <td>26</td>\n",
       "      <td>9</td>\n",
       "    </tr>\n",
       "    <tr>\n",
       "      <td>(-0.5, 0.5]</td>\n",
       "      <td>45</td>\n",
       "      <td>16</td>\n",
       "      <td>36</td>\n",
       "    </tr>\n",
       "    <tr>\n",
       "      <td>(0.5, inf]</td>\n",
       "      <td>8</td>\n",
       "      <td>40</td>\n",
       "      <td>14</td>\n",
       "    </tr>\n",
       "  </tbody>\n",
       "</table>\n",
       "</div>"
      ],
      "text/plain": [
       "y_bin         (-inf, -0.5]  (-0.5, 0.5]  (0.5, inf]\n",
       "x_bin                                              \n",
       "(-inf, -0.5]             6           26           9\n",
       "(-0.5, 0.5]             45           16          36\n",
       "(0.5, inf]               8           40          14"
      ]
     },
     "execution_count": 23,
     "metadata": {},
     "output_type": "execute_result"
    }
   ],
   "source": [
    "table2"
   ]
  },
  {
   "cell_type": "code",
   "execution_count": 24,
   "metadata": {},
   "outputs": [
    {
     "data": {
      "text/plain": [
       "(49.54058453424397, 4.5031674582895365e-10, 4, array([[12.095, 16.81 , 12.095],\n",
       "        [28.615, 39.77 , 28.615],\n",
       "        [18.29 , 25.42 , 18.29 ]]))"
      ]
     },
     "execution_count": 24,
     "metadata": {},
     "output_type": "execute_result"
    }
   ],
   "source": [
    "#Применяем к получившейся таблице тест:\n",
    "res = st.chi2_contingency(table2)\n",
    "res"
   ]
  },
  {
   "cell_type": "code",
   "execution_count": 25,
   "metadata": {},
   "outputs": [
    {
     "data": {
      "text/plain": [
       "4.5031674582895365e-10"
      ]
     },
     "execution_count": 25,
     "metadata": {},
     "output_type": "execute_result"
    }
   ],
   "source": [
    "p_value = res[1]\n",
    "p_value "
   ]
  },
  {
   "cell_type": "markdown",
   "metadata": {},
   "source": [
    "Вывод: признаки x и y зависимы!"
   ]
  },
  {
   "cell_type": "code",
   "execution_count": null,
   "metadata": {},
   "outputs": [],
   "source": []
  }
 ],
 "metadata": {
  "kernelspec": {
   "display_name": "Python 3",
   "language": "python",
   "name": "python3"
  },
  "language_info": {
   "codemirror_mode": {
    "name": "ipython",
    "version": 3
   },
   "file_extension": ".py",
   "mimetype": "text/x-python",
   "name": "python",
   "nbconvert_exporter": "python",
   "pygments_lexer": "ipython3",
   "version": "3.7.10"
  }
 },
 "nbformat": 4,
 "nbformat_minor": 2
}
