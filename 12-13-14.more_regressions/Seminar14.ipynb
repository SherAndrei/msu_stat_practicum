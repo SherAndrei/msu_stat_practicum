{
 "cells": [
  {
   "cell_type": "markdown",
   "metadata": {},
   "source": [
    "## Семинар 14. Нелинейная регрессия."
   ]
  },
  {
   "cell_type": "code",
   "execution_count": 1,
   "metadata": {},
   "outputs": [],
   "source": [
    "import numpy as np\n",
    "import scipy as sp\n",
    "import pandas as pd\n",
    "import matplotlib.pyplot as plt\n",
    "import scipy.stats as st"
   ]
  },
  {
   "cell_type": "code",
   "execution_count": 2,
   "metadata": {},
   "outputs": [],
   "source": [
    "from sklearn.linear_model import LinearRegression\n",
    "from sklearn.model_selection import train_test_split\n",
    "from sklearn.model_selection import cross_val_score\n",
    "from sklearn.metrics import mean_squared_error, r2_score"
   ]
  },
  {
   "cell_type": "markdown",
   "metadata": {},
   "source": [
    "### Задача №1\n",
    "\n",
    "В файле \"BostonData.txt\" представлены данные о домах в пригородах Бостона, в том числе такие характеристики как:\n",
    "\n",
    "medv – средняя стоимость домов\n",
    "\n",
    "lstat – процент владельцев с низким социальным статусом\n",
    "\n",
    "rm – среднее количество комнат в доме\n",
    "\n",
    "age – возраст домов\n",
    "\n",
    "crim – показатель криминальности района\n",
    "\n",
    "\n",
    "Охарактеризовать линейную зависимость средней стоимости домов от процента владельцев с низким социальным статусом (подобрать степень полиномиальной регрессии)."
   ]
  },
  {
   "cell_type": "code",
   "execution_count": 3,
   "metadata": {},
   "outputs": [],
   "source": [
    "data = pd.read_csv('BostonData.txt') \n",
    "y = data['medv']\n",
    "x_1 = data['lstat'] # первая степень"
   ]
  },
  {
   "cell_type": "code",
   "execution_count": 4,
   "metadata": {},
   "outputs": [],
   "source": [
    "x_1_train, x_1_test, y_train, y_test = train_test_split(x_1, y, test_size=0.25, random_state=10)"
   ]
  },
  {
   "cell_type": "code",
   "execution_count": 5,
   "metadata": {},
   "outputs": [],
   "source": [
    "# Считаем среднее значение кросс-валидации на полиномиальной регрессии,\n",
    "# построенной на степенях от 1 до k\n",
    "def calc_kfold_validation(k, x, y):\n",
    "    x_k = x[['factor{}'.format(i) for i in range(1, k+1)]]\n",
    "    lr = LinearRegression()\n",
    "    cv_scores = cross_val_score(lr, x_k, y, cv=5, scoring=\"neg_mean_squared_error\")\n",
    "    return np.mean(-cv_scores)"
   ]
  },
  {
   "cell_type": "code",
   "execution_count": 6,
   "metadata": {},
   "outputs": [],
   "source": [
    "def best_degree (max_degree, x_1, y):\n",
    "    # max_degree - максимальная степень, до которой будем искать полином\n",
    "    x = x_1.rename('factor1').to_frame() # делаем датафрейм\n",
    "    for k in range(2, max_degree+1): \n",
    "        x['factor{}'.format(k)] = np.power(x['factor1'], k) #добавляем в x столбцы различных степеней factor\n",
    "    res = pd.Series(index=range(1, max_degree + 1))\n",
    "    for k in res.index.values:\n",
    "        res.loc[k] = calc_kfold_validation(k, x, y)\n",
    "    res.plot(marker='o')\n",
    "    return res.idxmin() #индекс, на котором достигается min, так как MSE"
   ]
  },
  {
   "cell_type": "code",
   "execution_count": 7,
   "metadata": {},
   "outputs": [
    {
     "name": "stderr",
     "output_type": "stream",
     "text": [
      "/home/andrew/miniconda3/envs/da/lib/python3.7/site-packages/ipykernel_launcher.py:5: DeprecationWarning: The default dtype for empty Series will be 'object' instead of 'float64' in a future version. Specify a dtype explicitly to silence this warning.\n",
      "  \"\"\"\n"
     ]
    },
    {
     "data": {
      "text/plain": [
       "3"
      ]
     },
     "execution_count": 7,
     "metadata": {},
     "output_type": "execute_result"
    },
    {
     "data": {
      "image/png": "[encoded data removed]",
      "text/plain": [
       "<Figure size 432x288 with 1 Axes>"
      ]
     },
     "metadata": {
      "needs_background": "light"
     },
     "output_type": "display_data"
    }
   ],
   "source": [
    "best_degree(20, x_1_train, y_train)"
   ]
  },
  {
   "cell_type": "code",
   "execution_count": 8,
   "metadata": {},
   "outputs": [
    {
     "name": "stderr",
     "output_type": "stream",
     "text": [
      "/home/andrew/miniconda3/envs/da/lib/python3.7/site-packages/ipykernel_launcher.py:5: DeprecationWarning: The default dtype for empty Series will be 'object' instead of 'float64' in a future version. Specify a dtype explicitly to silence this warning.\n",
      "  \"\"\"\n"
     ]
    },
    {
     "data": {
      "text/plain": [
       "3"
      ]
     },
     "execution_count": 8,
     "metadata": {},
     "output_type": "execute_result"
    },
    {
     "data": {
      "image/png": "[encoded data removed]",
      "text/plain": [
       "<Figure size 432x288 with 1 Axes>"
      ]
     },
     "metadata": {
      "needs_background": "light"
     },
     "output_type": "display_data"
    }
   ],
   "source": [
    "best_degree(10, x_1_train, y_train)"
   ]
  },
  {
   "cell_type": "markdown",
   "metadata": {},
   "source": [
    "### Ramsey RESET test"
   ]
  },
  {
   "cell_type": "markdown",
   "metadata": {},
   "source": [
    "\"The test fits an auxiliary OLS regression where the design matrix, exog,\n",
    "    is augmented by powers 2 to degree of the fitted values. Then it performs\n",
    "    an F-test whether these additional terms are significant.\n",
    "\n",
    "    If the p-value of the f-test is below a threshold, e.g. 0.1, then this\n",
    "    indicates that there might be additional non-linear effects in the model\n",
    "    and that the linear model is mis-specified.\""
   ]
  },
  {
   "cell_type": "code",
   "execution_count": 9,
   "metadata": {},
   "outputs": [],
   "source": [
    "from statsmodels.stats.outliers_influence import reset_ramsey\n",
    "from statsmodels.tools.tools import add_constant\n",
    "from statsmodels.regression.linear_model import OLS"
   ]
  },
  {
   "cell_type": "markdown",
   "metadata": {},
   "source": [
    "Хотелось бы сделать так..."
   ]
  },
  {
   "cell_type": "code",
   "execution_count": 10,
   "metadata": {},
   "outputs": [],
   "source": [
    "x_1_train_plus_c = add_constant(x_1_train)\n",
    "ols = OLS(y_train, x_1_train_plus_c)\n",
    "results = ols.fit()"
   ]
  },
  {
   "cell_type": "code",
   "execution_count": 11,
   "metadata": {
    "scrolled": true
   },
   "outputs": [
    {
     "data": {
      "text/plain": [
       "<class 'statsmodels.stats.contrast.ContrastResults'>\n",
       "<F test: F=array([[15.76528782]]), p=2.6661519371384307e-07, df_denom=375, df_num=2>"
      ]
     },
     "execution_count": 11,
     "metadata": {},
     "output_type": "execute_result"
    }
   ],
   "source": [
    "reset_ramsey(results, degree = 3)"
   ]
  },
  {
   "cell_type": "markdown",
   "metadata": {},
   "source": [
    "Но! Для данного теста нужна нормальность остатков (которой нет)."
   ]
  },
  {
   "cell_type": "markdown",
   "metadata": {},
   "source": [
    "Плюс важно еще помнить о том, что данный тест может отвергать нулевую гипотезу из-за того, что в **исходной модели пропущена существенная переменная**, влияние которой **частично учтено введением нелинейных членов**.\n",
    "\n",
    "Для сравнения, если рассмотреть зависимость от всех признаков (в такой модели нормальность остатков не будет отвергаться, это можно отдельно проверить):"
   ]
  },
  {
   "cell_type": "code",
   "execution_count": 12,
   "metadata": {},
   "outputs": [
    {
     "data": {
      "text/plain": [
       "<class 'statsmodels.stats.contrast.ContrastResults'>\n",
       "<F test: F=array([[0.24093494]]), p=0.7860183292941287, df_denom=363, df_num=2>"
      ]
     },
     "execution_count": 12,
     "metadata": {},
     "output_type": "execute_result"
    }
   ],
   "source": [
    "x_full = add_constant(data.drop(['medv'], 1))\n",
    "x_full_train, x_full_test, y_train, y_test = train_test_split(x_full, y, test_size=0.25, random_state=10)\n",
    "ols = OLS(y_train, x_full_train)\n",
    "results = ols.fit()\n",
    "reset_ramsey(results, degree = 3)"
   ]
  },
  {
   "cell_type": "code",
   "execution_count": null,
   "metadata": {},
   "outputs": [],
   "source": []
  }
 ],
 "metadata": {
  "kernelspec": {
   "display_name": "Python 3",
   "language": "python",
   "name": "python3"
  },
  "language_info": {
   "codemirror_mode": {
    "name": "ipython",
    "version": 3
   },
   "file_extension": ".py",
   "mimetype": "text/x-python",
   "name": "python",
   "nbconvert_exporter": "python",
   "pygments_lexer": "ipython3",
   "version": "3.7.10"
  }
 },
 "nbformat": 4,
 "nbformat_minor": 1
}
